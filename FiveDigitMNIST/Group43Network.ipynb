{
 "cells": [
  {
   "cell_type": "code",
   "execution_count": 1,
   "metadata": {},
   "outputs": [],
   "source": [
    "import os\n",
    "import h5py    \n",
    "import numpy as np \n",
    "import pandas\n",
    "import csv\n",
    "from matplotlib import pyplot as plt\n",
    "from random import randint\n",
    "\n",
    "from keras.models import Sequential\n",
    "from keras.layers import Dense, Dropout, Flatten, Conv2D, MaxPool2D, MaxPooling2D, ZeroPadding2D, Reshape, BatchNormalization\n",
    "from keras.utils import to_categorical\n",
    "from keras.callbacks import ModelCheckpoint\n",
    "from keras.backend import clear_session\n",
    "from keras.preprocessing.image import ImageDataGenerator\n",
    "\n",
    "from tensorflow.keras.models import Model\n",
    "from tensorflow.keras.optimizers import Adam, SGD\n",
    "from tensorflow.keras.losses import BinaryCrossentropy\n",
    "from tensorflow.keras import layers\n",
    "\n",
    "from kerastuner.tuners import RandomSearch\n",
    "\n",
    "from sklearn.model_selection import train_test_split\n",
    "from sklearn.utils import shuffle\n",
    "from sklearn.preprocessing import MinMaxScaler\n",
    "\n",
    "clear_session()"
   ]
  },
  {
   "cell_type": "markdown",
   "metadata": {},
   "source": [
    "# Verify GPU usage and extract data from h5"
   ]
  },
  {
   "cell_type": "code",
   "execution_count": 2,
   "metadata": {},
   "outputs": [
    {
     "name": "stdout",
     "output_type": "stream",
     "text": [
      "Number of GPUs available : 1 \n"
     ]
    }
   ],
   "source": [
    "import tensorflow as tf\n",
    "print(f\"Number of GPUs available : {len(tf.config.experimental.list_physical_devices('GPU'))} \")\n",
    "\n",
    "f = h5py.File('MNIST_synthetic.h5', 'r')\n",
    "train = f['train_dataset'][...]\n",
    "train_labels = f['train_labels'][...]\n",
    "validation = f['test_dataset'][...]\n",
    "f.close()"
   ]
  },
  {
   "cell_type": "markdown",
   "metadata": {},
   "source": [
    "# Get train/test split and reshape them for CNN"
   ]
  },
  {
   "cell_type": "code",
   "execution_count": 3,
   "metadata": {},
   "outputs": [
    {
     "name": "stdout",
     "output_type": "stream",
     "text": [
      "x_train: (44800, 64, 64, 1)\n",
      "x_test: (11200, 64, 64, 1)\n"
     ]
    }
   ],
   "source": [
    "train_images, val_images, y_train_label, y_val_label = train_test_split(train, train_labels, test_size=0.2, shuffle=True)\n",
    "\n",
    "ln_train_images = train_images.shape[0]\n",
    "ln_val_images = val_images.shape[0]\n",
    "ln_split = train.shape[0]\n",
    "\n",
    "x_train_input_temp = train_images.reshape(ln_train_images,64,64,1).astype('float32')\n",
    "x_val_input_temp = val_images.reshape(ln_val_images,64,64,1).astype('float32')\n",
    "x_test_input_temp = train.reshape(ln_split,64,64,1).astype('float32')\n",
    "\n",
    "print ('x_train:', x_train_input_temp.shape)\n",
    "print ('x_test:', x_val_input_temp.shape)"
   ]
  },
  {
   "cell_type": "markdown",
   "metadata": {},
   "source": [
    "# Normalize the data"
   ]
  },
  {
   "cell_type": "code",
   "execution_count": 4,
   "metadata": {},
   "outputs": [],
   "source": [
    "validation# Normalize data\n",
    "x_train_input = x_train_input_temp / 255\n",
    "x_val_input = x_val_input_temp / 255\n",
    "x_test_input = x_test_input_temp / 255\n",
    "\n",
    "y_train_label = to_categorical(y_train_label)\n",
    "y_val_label = to_categorical(y_val_label)"
   ]
  },
  {
   "cell_type": "markdown",
   "metadata": {},
   "source": [
    "# Use Keras tuner to search for best hyper-parameters\n",
    "\n",
    "1) Number of hidden layers\n",
    "\n",
    "2) Number of neurons in the hidden layers\n",
    "\n",
    "3) Learning rate"
   ]
  },
  {
   "cell_type": "code",
   "execution_count": 29,
   "metadata": {},
   "outputs": [
    {
     "name": "stdout",
     "output_type": "stream",
     "text": [
      "Search space summary\n",
      "Default search space size: 5\n",
      "num_layers (Int)\n",
      "{'default': None, 'conditions': [], 'min_value': 2, 'max_value': 5, 'step': 1, 'sampling': None}\n",
      "units_0 (Int)\n",
      "{'default': None, 'conditions': [], 'min_value': 32, 'max_value': 384, 'step': 32, 'sampling': None}\n",
      "dropout_1 (Float)\n",
      "{'default': 0.1, 'conditions': [], 'min_value': 0.0, 'max_value': 0.4, 'step': 0.05, 'sampling': None}\n",
      "units_1 (Int)\n",
      "{'default': None, 'conditions': [], 'min_value': 32, 'max_value': 384, 'step': 32, 'sampling': None}\n",
      "learning_rate (Choice)\n",
      "{'default': 0.001, 'conditions': [], 'values': [0.001, 0.003, 0.005], 'ordered': True}\n"
     ]
    }
   ],
   "source": [
    "def build_model(hp):\n",
    "    \n",
    "    width=64\n",
    "    height=64\n",
    "    depth=1\n",
    "    model = Sequential()\n",
    "\n",
    "    # Convolution: TODO verify filter size\n",
    "    model.add(Conv2D(filters=64,kernel_size=(2,2),padding='same', input_shape=(width,height,depth), activation='relu'))\n",
    "    model.add(MaxPool2D(pool_size=(2,2)))\n",
    "    model.add(Conv2D(filters=64*2,kernel_size=(2,2),padding='same', activation='relu'))\n",
    "    model.add(MaxPool2D(pool_size=(2,2)))    \n",
    "    model.add(Conv2D(filters=64*3,kernel_size=(2,2),padding='same', activation='relu'))\n",
    "    model.add(MaxPool2D(pool_size=(2,2)))\n",
    "    model.add(Conv2D(filters=64*4,kernel_size=(2,2),padding='same', activation='relu'))\n",
    "    model.add(MaxPool2D(pool_size=(2,2)))\n",
    "    model.add(Conv2D(filters=64*5,kernel_size=(2,2),padding='same', activation='relu'))\n",
    "    model.add(MaxPool2D(pool_size=(2,2)))\n",
    "    model.add(Flatten())\n",
    "\n",
    "    # Fully connected layers\n",
    "    for i in range(hp.Int('num_layers', 2, 5)): # We want maximum 2-4 layers, decided from previous trial/error\n",
    "        model.add(Dense(\n",
    "            units=hp.Int('units_' + str(i), min_value=32, max_value=384, step=32),\n",
    "            activation='swish'\n",
    "        ))\n",
    "        model.add(Dropout(\n",
    "            rate=hp.Float('dropout_1', min_value=0.0, max_value=0.4, default=0.1, step=0.05) \n",
    "        ))\n",
    "\n",
    "    model.add(Dense(5*11,activation='sigmoid'))\n",
    "    model.add(Reshape( (5,11) )) \n",
    "    \n",
    "    # Test out different learning rates for Adam\n",
    "    model.compile(\n",
    "        optimizer=Adam(hp.Choice('learning_rate', [0.001, 0.003, 0.005])),\n",
    "        loss=BinaryCrossentropy(),\n",
    "        metrics=['accuracy'])\n",
    "    \n",
    "    return model\n",
    "\n",
    "\n",
    "tuner = RandomSearch(\n",
    "    build_model,\n",
    "    objective='val_accuracy',\n",
    "    max_trials=5,\n",
    "    executions_per_trial=5,\n",
    "    directory='project_5',\n",
    "    project_name='models')\n",
    "\n",
    "tuner.search_space_summary()"
   ]
  },
  {
   "cell_type": "code",
   "execution_count": 30,
   "metadata": {
    "scrolled": true
   },
   "outputs": [
    {
     "name": "stdout",
     "output_type": "stream",
     "text": [
      "Trial 5 Complete [00h 15m 45s]\n",
      "val_accuracy: 0.9859071373939514\n",
      "\n",
      "Best val_accuracy So Far: 0.9905107140541076\n",
      "Total elapsed time: 10h 36m 56s\n",
      "INFO:tensorflow:Oracle triggered exit\n"
     ]
    }
   ],
   "source": [
    "tuner.search(\n",
    "    x=x_train_input, # Train on origional dataset, not augmented dataset to get most consistent results\n",
    "    y=y_train_label,\n",
    "    validation_data=(x_val_input, y_val_label),\n",
    "    epochs=6,\n",
    ")"
   ]
  },
  {
   "cell_type": "code",
   "execution_count": 31,
   "metadata": {},
   "outputs": [
    {
     "name": "stdout",
     "output_type": "stream",
     "text": [
      "Results summary\n",
      "Results in project_5\\models\n",
      "Showing 10 best trials\n",
      "Objective(name='val_accuracy', direction='max')\n",
      "Trial summary\n",
      "Hyperparameters:\n",
      "num_layers: 2\n",
      "units_0: 288\n",
      "dropout_1: 0.15000000000000002\n",
      "units_1: 224\n",
      "learning_rate: 0.001\n",
      "units_2: 128\n",
      "Score: 0.9905107140541076\n",
      "Trial summary\n",
      "Hyperparameters:\n",
      "num_layers: 3\n",
      "units_0: 288\n",
      "dropout_1: 0.05\n",
      "units_1: 256\n",
      "learning_rate: 0.001\n",
      "units_2: 32\n",
      "Score: 0.9901571393013\n",
      "Trial summary\n",
      "Hyperparameters:\n",
      "num_layers: 4\n",
      "units_0: 320\n",
      "dropout_1: 0.05\n",
      "units_1: 320\n",
      "learning_rate: 0.001\n",
      "units_2: 352\n",
      "units_3: 32\n",
      "Score: 0.9874071478843689\n",
      "Trial summary\n",
      "Hyperparameters:\n",
      "num_layers: 4\n",
      "units_0: 224\n",
      "dropout_1: 0.15000000000000002\n",
      "units_1: 64\n",
      "learning_rate: 0.001\n",
      "units_2: 224\n",
      "units_3: 384\n",
      "Score: 0.9859071373939514\n",
      "Trial summary\n",
      "Hyperparameters:\n",
      "num_layers: 3\n",
      "units_0: 352\n",
      "dropout_1: 0.05\n",
      "units_1: 32\n",
      "learning_rate: 0.005\n",
      "units_2: 384\n",
      "units_3: 96\n",
      "Score: 0.9479857206344604\n"
     ]
    }
   ],
   "source": [
    "tuner.results_summary()"
   ]
  },
  {
   "cell_type": "markdown",
   "metadata": {},
   "source": [
    "# Create model based on keras tuner"
   ]
  },
  {
   "cell_type": "code",
   "execution_count": 9,
   "metadata": {},
   "outputs": [
    {
     "name": "stdout",
     "output_type": "stream",
     "text": [
      "Model: \"model\"\n",
      "_________________________________________________________________\n",
      "Layer (type)                 Output Shape              Param #   \n",
      "=================================================================\n",
      "conv2d_input (InputLayer)    [(None, 64, 64, 1)]       0         \n",
      "_________________________________________________________________\n",
      "conv2d (Conv2D)              (None, 64, 64, 64)        320       \n",
      "_________________________________________________________________\n",
      "max_pooling2d (MaxPooling2D) (None, 32, 32, 64)        0         \n",
      "_________________________________________________________________\n",
      "batch_normalization (BatchNo (None, 32, 32, 64)        256       \n",
      "_________________________________________________________________\n",
      "conv2d_1 (Conv2D)            (None, 32, 32, 128)       32896     \n",
      "_________________________________________________________________\n",
      "conv2d_2 (Conv2D)            (None, 32, 32, 128)       65664     \n",
      "_________________________________________________________________\n",
      "max_pooling2d_1 (MaxPooling2 (None, 16, 16, 128)       0         \n",
      "_________________________________________________________________\n",
      "batch_normalization_1 (Batch (None, 16, 16, 128)       512       \n",
      "_________________________________________________________________\n",
      "conv2d_3 (Conv2D)            (None, 16, 16, 256)       131328    \n",
      "_________________________________________________________________\n",
      "conv2d_4 (Conv2D)            (None, 16, 16, 256)       262400    \n",
      "_________________________________________________________________\n",
      "conv2d_5 (Conv2D)            (None, 16, 16, 256)       262400    \n",
      "_________________________________________________________________\n",
      "max_pooling2d_2 (MaxPooling2 (None, 8, 8, 256)         0         \n",
      "_________________________________________________________________\n",
      "batch_normalization_2 (Batch (None, 8, 8, 256)         1024      \n",
      "_________________________________________________________________\n",
      "flatten (Flatten)            (None, 16384)             0         \n",
      "_________________________________________________________________\n",
      "dense (Dense)                (None, 288)               4718880   \n",
      "_________________________________________________________________\n",
      "dense_1 (Dense)              (None, 224)               64736     \n",
      "_________________________________________________________________\n",
      "dropout (Dropout)            (None, 224)               0         \n",
      "_________________________________________________________________\n",
      "dense_2 (Dense)              (None, 55)                12375     \n",
      "_________________________________________________________________\n",
      "reshape (Reshape)            (None, 5, 11)             0         \n",
      "=================================================================\n",
      "Total params: 5,552,791\n",
      "Trainable params: 5,551,895\n",
      "Non-trainable params: 896\n",
      "_________________________________________________________________\n"
     ]
    }
   ],
   "source": [
    "def create_cnn(width=64, height=64, depth=1):\n",
    "    model = Sequential()\n",
    "    \n",
    "    # Convolution\n",
    "    model.add(Conv2D(filters=64,kernel_size=(2,2),padding='same', input_shape=(width,height,depth), activation='relu'))\n",
    "    model.add(MaxPool2D(pool_size=(2,2)))\n",
    "    model.add(BatchNormalization())\n",
    "    \n",
    "    model.add(Conv2D(filters=128,kernel_size=(2,2),padding='same', activation='relu'))\n",
    "    model.add(Conv2D(filters=128,kernel_size=(2,2),padding='same', activation='relu'))\n",
    "    model.add(MaxPool2D(pool_size=(2,2)))\n",
    "    model.add(BatchNormalization())\n",
    "    \n",
    "    model.add(Conv2D(filters=256,kernel_size=(2,2),padding='same', activation='relu'))\n",
    "    model.add(Conv2D(filters=256,kernel_size=(2,2),padding='same', activation='relu'))\n",
    "    model.add(Conv2D(filters=256,kernel_size=(2,2),padding='same', activation='relu'))\n",
    "    model.add(MaxPool2D(pool_size=(2,2)))\n",
    "    model.add(BatchNormalization())\n",
    "    model.add(Flatten())\n",
    "    \n",
    "    # Fully connected\n",
    "    model.add(Dense(288, activation='swish'))\n",
    "    model.add(Dense(224, activation='swish'))\n",
    "    model.add(Dropout(0.150))\n",
    "    model.add(Dense(5*11,activation='sigmoid'))\n",
    "    model.add(Reshape( (5,11) ))\n",
    "    return model\n",
    "\n",
    "\n",
    "cnn1 = create_cnn(64, 64, 1)\n",
    "model = Model(inputs=cnn1.inputs, outputs = cnn1.outputs)\n",
    "model.summary()"
   ]
  },
  {
   "cell_type": "markdown",
   "metadata": {},
   "source": [
    "# Working with the model"
   ]
  },
  {
   "cell_type": "code",
   "execution_count": 10,
   "metadata": {},
   "outputs": [],
   "source": [
    "# Once we've trained with k-fold validation, we want to train the model with ALL the data,\n",
    "# then test it out / verify that we don't have overfitting\n",
    "f = h5py.File('MNIST_synthetic.h5', 'r')\n",
    "train = f['train_dataset'][...]\n",
    "train_labels = f['train_labels'][...]\n",
    "validation = f['test_dataset'][...]\n",
    "f.close()\n",
    "\n",
    "train_images, val_images, y_train_label, y_val_label = train_test_split(train, train_labels, test_size=0.1, shuffle=True)\n",
    "\n",
    "ln_train_images = train_images.shape[0]\n",
    "ln_val_images = val_images.shape[0]\n",
    "ln_split = train.shape[0]\n",
    "\n",
    "x_train_input_temp = train_images.reshape(ln_train_images,64,64,1).astype('float32')\n",
    "x_val_input_temp = val_images.reshape(ln_val_images,64,64,1).astype('float32')\n",
    "x_test_input_temp = train.reshape(ln_split,64,64,1).astype('float32')\n",
    "\n",
    "x_train_input = x_train_input_temp / 255\n",
    "x_val_input = x_val_input_temp / 255\n",
    "x_test_input = x_test_input_temp / 255\n",
    "\n",
    "y_train_label = to_categorical(y_train_label)\n",
    "y_val_label = to_categorical(y_val_label)"
   ]
  },
  {
   "cell_type": "markdown",
   "metadata": {},
   "source": [
    "# Data augmentation"
   ]
  },
  {
   "cell_type": "code",
   "execution_count": 11,
   "metadata": {},
   "outputs": [],
   "source": [
    "datagen = ImageDataGenerator(\n",
    "    featurewise_center=True,\n",
    "    samplewise_center=True,\n",
    "    featurewise_std_normalization=True,\n",
    "    samplewise_std_normalization=True,\n",
    "    shear_range=0.07,\n",
    "    width_shift_range=0.05,\n",
    "    height_shift_range=0.06,\n",
    "    horizontal_flip=False)"
   ]
  },
  {
   "cell_type": "markdown",
   "metadata": {},
   "source": [
    "# Fit the model"
   ]
  },
  {
   "cell_type": "code",
   "execution_count": 12,
   "metadata": {},
   "outputs": [
    {
     "name": "stdout",
     "output_type": "stream",
     "text": [
      "Epoch 1/18\n",
      "1575/1575 [==============================] - 60s 36ms/step - loss: 0.1465 - accuracy: 0.6631\n",
      "Epoch 2/18\n",
      "1575/1575 [==============================] - 58s 37ms/step - loss: 0.0235 - accuracy: 0.9719\n",
      "Epoch 3/18\n",
      "1575/1575 [==============================] - 60s 38ms/step - loss: 0.0154 - accuracy: 0.9832\n",
      "Epoch 4/18\n",
      "1575/1575 [==============================] - 59s 37ms/step - loss: 0.0125 - accuracy: 0.9866\n",
      "Epoch 5/18\n",
      "1575/1575 [==============================] - 58s 37ms/step - loss: 0.0106 - accuracy: 0.9890\n",
      "Epoch 6/18\n",
      "1575/1575 [==============================] - 58s 37ms/step - loss: 0.0094 - accuracy: 0.9901\n",
      "Epoch 7/18\n",
      "1575/1575 [==============================] - 58s 37ms/step - loss: 0.0084 - accuracy: 0.9912\n",
      "Epoch 8/18\n",
      "1575/1575 [==============================] - 58s 37ms/step - loss: 0.0078 - accuracy: 0.9920\n",
      "Epoch 9/18\n",
      "1575/1575 [==============================] - 58s 37ms/step - loss: 0.0072 - accuracy: 0.9926\n",
      "Epoch 10/18\n",
      "1575/1575 [==============================] - 58s 37ms/step - loss: 0.0070 - accuracy: 0.9928\n",
      "Epoch 11/18\n",
      "1575/1575 [==============================] - 58s 37ms/step - loss: 0.0060 - accuracy: 0.9938\n",
      "Epoch 12/18\n",
      "1575/1575 [==============================] - 58s 37ms/step - loss: 0.0058 - accuracy: 0.9944\n",
      "Epoch 13/18\n",
      "1575/1575 [==============================] - 61s 39ms/step - loss: 0.0055 - accuracy: 0.9944\n",
      "Epoch 14/18\n",
      "1575/1575 [==============================] - 59s 38ms/step - loss: 0.0052 - accuracy: 0.9946\n",
      "Epoch 15/18\n",
      "1575/1575 [==============================] - 58s 37ms/step - loss: 0.0048 - accuracy: 0.9949\n",
      "Epoch 16/18\n",
      "1575/1575 [==============================] - 59s 37ms/step - loss: 0.0049 - accuracy: 0.9950\n",
      "Epoch 17/18\n",
      "1575/1575 [==============================] - 58s 37ms/step - loss: 0.0043 - accuracy: 0.9954\n",
      "Epoch 18/18\n",
      "1575/1575 [==============================] - 58s 37ms/step - loss: 0.0044 - accuracy: 0.9954\n"
     ]
    },
    {
     "data": {
      "text/plain": [
       "<tensorflow.python.keras.callbacks.History at 0x240fb8cc388>"
      ]
     },
     "execution_count": 12,
     "metadata": {},
     "output_type": "execute_result"
    }
   ],
   "source": [
    "cnn1 = create_cnn(64, 64, 1)\n",
    "model = Model(inputs=cnn1.inputs, outputs = cnn1.outputs)\n",
    "model.compile(\n",
    "    optimizer=Adam(lr=0.001), #0.001\n",
    "    loss=BinaryCrossentropy(),\n",
    "    metrics=['accuracy'])\n",
    "\n",
    "x_train_input_gen = x_train_input # To make sure we don't end up changing the origional dataset\n",
    "datagen.fit(x_train_input_gen)\n",
    "\n",
    "batchSize = 32\n",
    "nrEpochs = 18\n",
    "model.fit(datagen.flow(x_train_input_gen, y_train_label, batch_size=batchSize),\n",
    "          steps_per_epoch=len(x_train_input_gen) / batchSize, \n",
    "          epochs=nrEpochs)\n",
    "\n",
    "'''\n",
    "NOTE:\n",
    "Due to the deadline approaching,\n",
    "the code was not able to fully evaluate, however \n",
    "the code does not take long to compile and run.\n",
    "\n",
    "The epoch used for the highest validation accuracy was 11 and the learning rate lr was 0.001\n",
    "'''"
   ]
  },
  {
   "cell_type": "markdown",
   "metadata": {},
   "source": [
    "# Verify validation accuracy"
   ]
  },
  {
   "cell_type": "code",
   "execution_count": 13,
   "metadata": {},
   "outputs": [
    {
     "name": "stdout",
     "output_type": "stream",
     "text": [
      "175/175 [==============================] - 2s 11ms/step - loss: 0.0862 - accuracy: 0.9375\n",
      "Validation accuracy : 93.75357031822205%\n"
     ]
    }
   ],
   "source": [
    "_, acc = model.evaluate(val_images, y_val_label)\n",
    "print(f'Validation accuracy : {acc*100}%')"
   ]
  },
  {
   "cell_type": "code",
   "execution_count": 14,
   "metadata": {},
   "outputs": [
    {
     "name": "stdout",
     "output_type": "stream",
     "text": [
      "           Label\n",
      "Id              \n",
      "12163  610101010\n"
     ]
    },
    {
     "data": {
      "image/png": "[encoded data removed]",
      "text/plain": [
       "<Figure size 432x288 with 1 Axes>"
      ]
     },
     "metadata": {
      "needs_background": "light"
     },
     "output_type": "display_data"
    },
    {
     "data": {
      "image/png": "[encoded data removed]",
      "text/plain": [
       "<Figure size 432x288 with 1 Axes>"
      ]
     },
     "metadata": {
      "needs_background": "light"
     },
     "output_type": "display_data"
    },
    {
     "name": "stdout",
     "output_type": "stream",
     "text": [
      "          Label\n",
      "Id             \n",
      "12164  00101010\n"
     ]
    },
    {
     "data": {
      "image/png": "[encoded data removed]",
      "text/plain": [
       "<Figure size 432x288 with 1 Axes>"
      ]
     },
     "metadata": {
      "needs_background": "light"
     },
     "output_type": "display_data"
    },
    {
     "data": {
      "image/png": "[encoded data removed]",
      "text/plain": [
       "<Figure size 432x288 with 1 Axes>"
      ]
     },
     "metadata": {
      "needs_background": "light"
     },
     "output_type": "display_data"
    },
    {
     "name": "stdout",
     "output_type": "stream",
     "text": [
      "          Label\n",
      "Id             \n",
      "12165  70101010\n"
     ]
    },
    {
     "data": {
      "image/png": "[encoded data removed]",
      "text/plain": [
       "<Figure size 432x288 with 1 Axes>"
      ]
     },
     "metadata": {
      "needs_background": "light"
     },
     "output_type": "display_data"
    },
    {
     "data": {
      "image/png": "[encoded data removed]",
      "text/plain": [
       "<Figure size 432x288 with 1 Axes>"
      ]
     },
     "metadata": {
      "needs_background": "light"
     },
     "output_type": "display_data"
    },
    {
     "name": "stdout",
     "output_type": "stream",
     "text": [
      "           Label\n",
      "Id              \n",
      "12166  010101010\n"
     ]
    },
    {
     "data": {
      "image/png": "[encoded data removed]",
      "text/plain": [
       "<Figure size 432x288 with 1 Axes>"
      ]
     },
     "metadata": {
      "needs_background": "light"
     },
     "output_type": "display_data"
    },
    {
     "data": {
      "image/png": "[encoded data removed]",
      "text/plain": [
       "<Figure size 432x288 with 1 Axes>"
      ]
     },
     "metadata": {
      "needs_background": "light"
     },
     "output_type": "display_data"
    },
    {
     "name": "stdout",
     "output_type": "stream",
     "text": [
      "       Label\n",
      "Id          \n",
      "12167  49001\n"
     ]
    },
    {
     "data": {
      "image/png": "[encoded data removed]",
      "text/plain": [
       "<Figure size 432x288 with 1 Axes>"
      ]
     },
     "metadata": {
      "needs_background": "light"
     },
     "output_type": "display_data"
    },
    {
     "data": {
      "image/png": "[encoded data removed]",
      "text/plain": [
       "<Figure size 432x288 with 1 Axes>"
      ]
     },
     "metadata": {
      "needs_background": "light"
     },
     "output_type": "display_data"
    },
    {
     "name": "stdout",
     "output_type": "stream",
     "text": [
      "          Label\n",
      "Id             \n",
      "12168  65101010\n"
     ]
    },
    {
     "data": {
      "image/png": "[encoded data removed]",
      "text/plain": [
       "<Figure size 432x288 with 1 Axes>"
      ]
     },
     "metadata": {
      "needs_background": "light"
     },
     "output_type": "display_data"
    },
    {
     "data": {
      "image/png": "[encoded data removed]",
      "text/plain": [
       "<Figure size 432x288 with 1 Axes>"
      ]
     },
     "metadata": {
      "needs_background": "light"
     },
     "output_type": "display_data"
    },
    {
     "name": "stdout",
     "output_type": "stream",
     "text": [
      "          Label\n",
      "Id             \n",
      "12169  28101010\n"
     ]
    },
    {
     "data": {
      "image/png": "[encoded data removed]",
      "text/plain": [
       "<Figure size 432x288 with 1 Axes>"
      ]
     },
     "metadata": {
      "needs_background": "light"
     },
     "output_type": "display_data"
    },
    {
     "data": {
      "image/png": "[encoded data removed]",
      "text/plain": [
       "<Figure size 432x288 with 1 Axes>"
      ]
     },
     "metadata": {
      "needs_background": "light"
     },
     "output_type": "display_data"
    },
    {
     "name": "stdout",
     "output_type": "stream",
     "text": [
      "       Label\n",
      "Id          \n",
      "12170  73421\n"
     ]
    },
    {
     "data": {
      "image/png": "[encoded data removed]",
      "text/plain": [
       "<Figure size 432x288 with 1 Axes>"
      ]
     },
     "metadata": {
      "needs_background": "light"
     },
     "output_type": "display_data"
    },
    {
     "data": {
      "image/png": "[encoded data removed]",
      "text/plain": [
       "<Figure size 432x288 with 1 Axes>"
      ]
     },
     "metadata": {
      "needs_background": "light"
     },
     "output_type": "display_data"
    },
    {
     "name": "stdout",
     "output_type": "stream",
     "text": [
      "       Label\n",
      "Id          \n",
      "12171  17881\n"
     ]
    },
    {
     "data": {
      "image/png": "[encoded data removed]",
      "text/plain": [
       "<Figure size 432x288 with 1 Axes>"
      ]
     },
     "metadata": {
      "needs_background": "light"
     },
     "output_type": "display_data"
    },
    {
     "data": {
      "image/png": "[encoded data removed]",
      "text/plain": [
       "<Figure size 432x288 with 1 Axes>"
      ]
     },
     "metadata": {
      "needs_background": "light"
     },
     "output_type": "display_data"
    },
    {
     "name": "stdout",
     "output_type": "stream",
     "text": [
      "       Label\n",
      "Id          \n",
      "12172  57504\n"
     ]
    },
    {
     "data": {
      "image/png": "[encoded data removed]",
      "text/plain": [
       "<Figure size 432x288 with 1 Axes>"
      ]
     },
     "metadata": {
      "needs_background": "light"
     },
     "output_type": "display_data"
    },
    {
     "data": {
      "image/png": "[encoded data removed]",
      "text/plain": [
       "<Figure size 432x288 with 1 Axes>"
      ]
     },
     "metadata": {
      "needs_background": "light"
     },
     "output_type": "display_data"
    }
   ],
   "source": [
    "def showWithColour(img):\n",
    "    img = np.array(img, dtype='float')\n",
    "    imgShape = (img.shape[0], img.shape[1])\n",
    "    pixels = img.reshape(imgShape)\n",
    "    plt.imshow(pixels)\n",
    "    plt.show()\n",
    "    \n",
    "preds = model.predict(validation)\n",
    "labels,indices = [],[]\n",
    "for i in range(len(validation)):\n",
    "    arr = []\n",
    "    label = ''\n",
    "    for p in preds[i]:\n",
    "        arr.append(np.argmax(p))\n",
    "    for num in arr:\n",
    "        label += str(num)\n",
    "    indices.append(i)\n",
    "    labels.append(label)\n",
    "d = {'Label': labels}\n",
    "df = pandas.DataFrame(data=d)\n",
    "df.index.names = ['Id']\n",
    "df.to_csv('test_prediction.csv', float_format='{:f}'.format, encoding='utf-8')\n",
    "\n",
    "start_idx = randint(0,len(validation)-10)\n",
    "end_idx = start_idx+10\n",
    "for i in range(start_idx, end_idx):\n",
    "    print(df.loc[[i]])\n",
    "    showWithColour(preds[i])\n",
    "    showWithColour(validation[i])"
   ]
  },
  {
   "cell_type": "code",
   "execution_count": null,
   "metadata": {},
   "outputs": [],
   "source": []
  }
 ],
 "metadata": {
  "kernelspec": {
   "display_name": "Python 3",
   "language": "python",
   "name": "python3"
  },
  "language_info": {
   "codemirror_mode": {
    "name": "ipython",
    "version": 3
   },
   "file_extension": ".py",
   "mimetype": "text/x-python",
   "name": "python",
   "nbconvert_exporter": "python",
   "pygments_lexer": "ipython3",
   "version": "3.7.6"
  }
 },
 "nbformat": 4,
 "nbformat_minor": 4
}
