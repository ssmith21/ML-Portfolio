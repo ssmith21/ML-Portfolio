{
 "cells": [
  {
   "cell_type": "code",
   "execution_count": 1,
   "metadata": {},
   "outputs": [
    {
     "name": "stdout",
     "output_type": "stream",
     "text": [
      "Number of GPUs available : 1 \n"
     ]
    }
   ],
   "source": [
    "import pandas as pd\n",
    "import numpy as np\n",
    "import itertools\n",
    "import matplotlib.pyplot as plt\n",
    "from pandas import DataFrame\n",
    "from mpl_toolkits.mplot3d import Axes3D\n",
    "\n",
    "from sklearn import preprocessing\n",
    "from sklearn.cluster import KMeans\n",
    "from sklearn.linear_model import LogisticRegression\n",
    "from sklearn.neighbors import KNeighborsClassifier\n",
    "from sklearn.model_selection import train_test_split, cross_validate, RepeatedStratifiedKFold, cross_val_score\n",
    "from sklearn.metrics import accuracy_score, mean_squared_error\n",
    "from sklearn.preprocessing import StandardScaler\n",
    "from sklearn.decomposition import PCA\n",
    "from sklearn.cluster import DBSCAN\n",
    "from sklearn.metrics import confusion_matrix, plot_confusion_matrix, log_loss\n",
    "from sklearn.svm import SVC\n",
    "\n",
    "from keras.models import Sequential\n",
    "from keras.layers import Dense, Dropout, Flatten, Conv2D, MaxPool2D, MaxPooling2D, Reshape, LSTM\n",
    "from keras.utils import to_categorical\n",
    "from keras.callbacks import ModelCheckpoint\n",
    "from keras.backend import clear_session\n",
    "from keras.preprocessing.image import ImageDataGenerator\n",
    "from kerastuner.tuners import RandomSearch\n",
    "from keras.callbacks import EarlyStopping\n",
    "from keras.layers.advanced_activations import PReLU\n",
    "from keras.layers.core import Dense, Dropout, Activation\n",
    "from keras.layers.normalization import BatchNormalization\n",
    "from keras.utils.vis_utils import plot_model\n",
    "\n",
    "from tensorflow.keras.models import Model\n",
    "from tensorflow.keras.optimizers import Adam, SGD\n",
    "from tensorflow.keras.losses import BinaryCrossentropy\n",
    "from tensorflow.keras import layers\n",
    "from tensorflow.keras.regularizers import l2\n",
    "\n",
    "import tensorflow as tf\n",
    "print(f\"Number of GPUs available : {len(tf.config.experimental.list_physical_devices('GPU'))} \")"
   ]
  },
  {
   "cell_type": "markdown",
   "metadata": {},
   "source": [
    "### Helper functions"
   ]
  },
  {
   "cell_type": "code",
   "execution_count": 2,
   "metadata": {},
   "outputs": [],
   "source": [
    "def accumulateLogSum_noTarget(a,colname):\n",
    "    row_sum = [] # Each element is sum (log(sum x))\n",
    "    for _,row in a.iterrows(): # Sum all the columns for each row, each apply log to each element.\n",
    "        row_s = 0\n",
    "        for x in row:\n",
    "            if x>0:\n",
    "                row_s += np.log1p(x)\n",
    "            elif x<0:\n",
    "                row_s += -(np.log1p(-x))\n",
    "            else:\n",
    "                row_s += 0\n",
    "        row_sum.append(row_s)\n",
    "    col = DataFrame(row_sum,columns=[colname])\n",
    "    return col\n",
    "\n",
    "def getDF():\n",
    "    dataframe = pd.read_csv('default of credit card clients.csv', encoding=\"utf-8\", header=1)\n",
    "    df = dataframe.copy(deep=True) # Make a deep copy so as not to modify the origional dataset\n",
    "    df['EDUCATION'].loc[(df['EDUCATION'] > 4)] = 4\n",
    "    df['EDUCATION'].loc[(df['EDUCATION'] == 0)] = 4\n",
    "    df['MARRIAGE'].loc[(df['MARRIAGE'] >2)] = 3\n",
    "    df['MARRIAGE'].loc[(df['MARRIAGE'] ==0)] = 3\n",
    "    pay = df.iloc[:, 6:12]\n",
    "    paydf = accumulateLogSum_noTarget(pay, 'PAY_LOGSUM')\n",
    "    bill = df.iloc[:,12:18]\n",
    "    billdf = accumulateLogSum_noTarget(bill, 'BILL_LOGSUM')\n",
    "    payamt = df.iloc[:, 18:24]\n",
    "    payamtdf = accumulateLogSum_noTarget(payamt, 'PAYAMT_LOGSUM')\n",
    "    target_tmp = df.iloc[:,-1]\n",
    "    firstcols = df.iloc[:,:6]\n",
    "    newdf = pd.concat([firstcols,pay,paydf,bill,billdf,payamt,payamtdf,target_tmp], axis=1)\n",
    "    x = newdf.values #returns a numpy array\n",
    "    min_max_scaler = preprocessing.MinMaxScaler()\n",
    "    x_scaled = min_max_scaler.fit_transform(x)\n",
    "    newdf = pd.DataFrame(x_scaled)\n",
    "    return newdf\n",
    "\n",
    "def getPartialDF(dataframe, fraction):\n",
    "    return dataframe.sample(frac=fraction, random_state=99)\n",
    "\n",
    "def getSplit(dataframe, testsize):\n",
    "    X = dataframe.iloc[:, 0:-1]\n",
    "    y = dataframe.iloc[:,-1]\n",
    "    x_train, x_test, y_train, y_test = train_test_split(X,y, test_size=testsize )\n",
    "    return x_train, x_test, y_train, y_test\n",
    "\n",
    "def trainAndEvaluate(net):\n",
    "    loss = 'binary_crossentropy'\n",
    "    optimizer = 'adam'\n",
    "    earlyStop = EarlyStopping(monitor='binary_accuracy', min_delta=0.05, patience=5, verbose=1)\n",
    "    net = Model(inputs=net.inputs, outputs = net.outputs)\n",
    "    net.compile(\n",
    "        optimizer='adam',\n",
    "        loss='binary_crossentropy',\n",
    "        metrics=['binary_accuracy'])\n",
    "    net.fit(x_train, y_train, batch_size=16, epochs=25, callbacks=earlyStop)\n",
    "    _,acc = net.evaluate(x_test, y_test)\n",
    "    print(f'Validation accuracy of model{acc*100}%')  \n",
    "\n",
    "# https://scikit-learn.org/stable/auto_examples/model_selection/plot_confusion_matrix.html#sphx-glr-auto-examples-model-selection-plot-confusion-matrix-py\n",
    "def plot_confusion_matrix(cm, classes,normalize=False,title='Confusion matrix',cmap=plt.cm.Blues):\n",
    "    plt.imshow(cm, interpolation='nearest', cmap=cmap)\n",
    "    plt.title(title)\n",
    "    plt.colorbar()\n",
    "    tick_marks = np.arange(len(classes))\n",
    "    plt.xticks(tick_marks, classes, rotation=45)\n",
    "    plt.yticks(tick_marks, classes)\n",
    "\n",
    "    if normalize:\n",
    "        cm = cm.astype('float') / cm.sum(axis=1)[:, np.newaxis]\n",
    "        print(\"Normalized confusion matrix\")\n",
    "    else:\n",
    "        print('Confusion matrix, without normalization')\n",
    "\n",
    "    print(cm)\n",
    "\n",
    "    thresh = cm.max() / 2.\n",
    "    for i, j in itertools.product(range(cm.shape[0]), range(cm.shape[1])):\n",
    "        plt.text(j, i, cm[i, j],\n",
    "            horizontalalignment=\"center\",\n",
    "            color=\"white\" if cm[i, j] > thresh else \"black\")\n",
    "\n",
    "    plt.tight_layout()\n",
    "    plt.ylabel('True label')\n",
    "    plt.xlabel('Predicted label')"
   ]
  },
  {
   "cell_type": "markdown",
   "metadata": {},
   "source": [
    "### Our Data\n",
    "\n",
    "df : Our dataframe with added features from when we explored our data.\n",
    "\n",
    "partialDF: 2500 random samples from our dataframe (df), used to train the models which take a really long time to compile."
   ]
  },
  {
   "cell_type": "code",
   "execution_count": 3,
   "metadata": {},
   "outputs": [
    {
     "data": {
      "text/html": [
       "<div>\n",
       "<style scoped>\n",
       "    .dataframe tbody tr th:only-of-type {\n",
       "        vertical-align: middle;\n",
       "    }\n",
       "\n",
       "    .dataframe tbody tr th {\n",
       "        vertical-align: top;\n",
       "    }\n",
       "\n",
       "    .dataframe thead th {\n",
       "        text-align: right;\n",
       "    }\n",
       "</style>\n",
       "<table border=\"1\" class=\"dataframe\">\n",
       "  <thead>\n",
       "    <tr style=\"text-align: right;\">\n",
       "      <th></th>\n",
       "      <th>0</th>\n",
       "      <th>1</th>\n",
       "      <th>2</th>\n",
       "      <th>3</th>\n",
       "      <th>4</th>\n",
       "      <th>5</th>\n",
       "      <th>6</th>\n",
       "      <th>7</th>\n",
       "      <th>8</th>\n",
       "      <th>9</th>\n",
       "      <th>...</th>\n",
       "      <th>18</th>\n",
       "      <th>19</th>\n",
       "      <th>20</th>\n",
       "      <th>21</th>\n",
       "      <th>22</th>\n",
       "      <th>23</th>\n",
       "      <th>24</th>\n",
       "      <th>25</th>\n",
       "      <th>26</th>\n",
       "      <th>27</th>\n",
       "    </tr>\n",
       "  </thead>\n",
       "  <tbody>\n",
       "    <tr>\n",
       "      <th>count</th>\n",
       "      <td>30000.00000</td>\n",
       "      <td>30000.000000</td>\n",
       "      <td>30000.000000</td>\n",
       "      <td>30000.000000</td>\n",
       "      <td>30000.000000</td>\n",
       "      <td>30000.000000</td>\n",
       "      <td>30000.00000</td>\n",
       "      <td>30000.000000</td>\n",
       "      <td>30000.000000</td>\n",
       "      <td>30000.000000</td>\n",
       "      <td>...</td>\n",
       "      <td>30000.000000</td>\n",
       "      <td>30000.000000</td>\n",
       "      <td>30000.000000</td>\n",
       "      <td>30000.000000</td>\n",
       "      <td>30000.000000</td>\n",
       "      <td>30000.000000</td>\n",
       "      <td>30000.000000</td>\n",
       "      <td>30000.000000</td>\n",
       "      <td>30000.000000</td>\n",
       "      <td>30000.000000</td>\n",
       "    </tr>\n",
       "    <tr>\n",
       "      <th>mean</th>\n",
       "      <td>0.50000</td>\n",
       "      <td>0.159075</td>\n",
       "      <td>0.603733</td>\n",
       "      <td>0.280756</td>\n",
       "      <td>0.278633</td>\n",
       "      <td>0.249750</td>\n",
       "      <td>0.19833</td>\n",
       "      <td>0.186623</td>\n",
       "      <td>0.183380</td>\n",
       "      <td>0.177933</td>\n",
       "      <td>...</td>\n",
       "      <td>0.290851</td>\n",
       "      <td>0.785174</td>\n",
       "      <td>0.006483</td>\n",
       "      <td>0.003516</td>\n",
       "      <td>0.005832</td>\n",
       "      <td>0.007771</td>\n",
       "      <td>0.011252</td>\n",
       "      <td>0.009865</td>\n",
       "      <td>0.490336</td>\n",
       "      <td>0.221200</td>\n",
       "    </tr>\n",
       "    <tr>\n",
       "      <th>std</th>\n",
       "      <td>0.28869</td>\n",
       "      <td>0.131058</td>\n",
       "      <td>0.489129</td>\n",
       "      <td>0.248165</td>\n",
       "      <td>0.260702</td>\n",
       "      <td>0.158929</td>\n",
       "      <td>0.11238</td>\n",
       "      <td>0.119719</td>\n",
       "      <td>0.119687</td>\n",
       "      <td>0.116914</td>\n",
       "      <td>...</td>\n",
       "      <td>0.045766</td>\n",
       "      <td>0.138803</td>\n",
       "      <td>0.018961</td>\n",
       "      <td>0.013680</td>\n",
       "      <td>0.019650</td>\n",
       "      <td>0.025227</td>\n",
       "      <td>0.035820</td>\n",
       "      <td>0.033627</td>\n",
       "      <td>0.193008</td>\n",
       "      <td>0.415062</td>\n",
       "    </tr>\n",
       "    <tr>\n",
       "      <th>min</th>\n",
       "      <td>0.00000</td>\n",
       "      <td>0.000000</td>\n",
       "      <td>0.000000</td>\n",
       "      <td>0.000000</td>\n",
       "      <td>0.000000</td>\n",
       "      <td>0.000000</td>\n",
       "      <td>0.00000</td>\n",
       "      <td>0.000000</td>\n",
       "      <td>0.000000</td>\n",
       "      <td>0.000000</td>\n",
       "      <td>...</td>\n",
       "      <td>0.000000</td>\n",
       "      <td>0.000000</td>\n",
       "      <td>0.000000</td>\n",
       "      <td>0.000000</td>\n",
       "      <td>0.000000</td>\n",
       "      <td>0.000000</td>\n",
       "      <td>0.000000</td>\n",
       "      <td>0.000000</td>\n",
       "      <td>0.000000</td>\n",
       "      <td>0.000000</td>\n",
       "    </tr>\n",
       "    <tr>\n",
       "      <th>25%</th>\n",
       "      <td>0.25000</td>\n",
       "      <td>0.040404</td>\n",
       "      <td>0.000000</td>\n",
       "      <td>0.000000</td>\n",
       "      <td>0.000000</td>\n",
       "      <td>0.120690</td>\n",
       "      <td>0.10000</td>\n",
       "      <td>0.100000</td>\n",
       "      <td>0.100000</td>\n",
       "      <td>0.100000</td>\n",
       "      <td>...</td>\n",
       "      <td>0.261944</td>\n",
       "      <td>0.721058</td>\n",
       "      <td>0.001145</td>\n",
       "      <td>0.000495</td>\n",
       "      <td>0.000435</td>\n",
       "      <td>0.000477</td>\n",
       "      <td>0.000592</td>\n",
       "      <td>0.000223</td>\n",
       "      <td>0.394309</td>\n",
       "      <td>0.000000</td>\n",
       "    </tr>\n",
       "    <tr>\n",
       "      <th>50%</th>\n",
       "      <td>0.50000</td>\n",
       "      <td>0.131313</td>\n",
       "      <td>1.000000</td>\n",
       "      <td>0.333333</td>\n",
       "      <td>0.500000</td>\n",
       "      <td>0.224138</td>\n",
       "      <td>0.20000</td>\n",
       "      <td>0.200000</td>\n",
       "      <td>0.200000</td>\n",
       "      <td>0.200000</td>\n",
       "      <td>...</td>\n",
       "      <td>0.274097</td>\n",
       "      <td>0.834652</td>\n",
       "      <td>0.002404</td>\n",
       "      <td>0.001193</td>\n",
       "      <td>0.002009</td>\n",
       "      <td>0.002415</td>\n",
       "      <td>0.003517</td>\n",
       "      <td>0.002837</td>\n",
       "      <td>0.543082</td>\n",
       "      <td>0.000000</td>\n",
       "    </tr>\n",
       "    <tr>\n",
       "      <th>75%</th>\n",
       "      <td>0.75000</td>\n",
       "      <td>0.232323</td>\n",
       "      <td>1.000000</td>\n",
       "      <td>0.333333</td>\n",
       "      <td>0.500000</td>\n",
       "      <td>0.344828</td>\n",
       "      <td>0.20000</td>\n",
       "      <td>0.200000</td>\n",
       "      <td>0.200000</td>\n",
       "      <td>0.200000</td>\n",
       "      <td>...</td>\n",
       "      <td>0.298787</td>\n",
       "      <td>0.881520</td>\n",
       "      <td>0.005731</td>\n",
       "      <td>0.002969</td>\n",
       "      <td>0.005028</td>\n",
       "      <td>0.006463</td>\n",
       "      <td>0.009452</td>\n",
       "      <td>0.007566</td>\n",
       "      <td>0.629867</td>\n",
       "      <td>0.000000</td>\n",
       "    </tr>\n",
       "    <tr>\n",
       "      <th>max</th>\n",
       "      <td>1.00000</td>\n",
       "      <td>1.000000</td>\n",
       "      <td>1.000000</td>\n",
       "      <td>1.000000</td>\n",
       "      <td>1.000000</td>\n",
       "      <td>1.000000</td>\n",
       "      <td>1.00000</td>\n",
       "      <td>1.000000</td>\n",
       "      <td>1.000000</td>\n",
       "      <td>1.000000</td>\n",
       "      <td>...</td>\n",
       "      <td>1.000000</td>\n",
       "      <td>1.000000</td>\n",
       "      <td>1.000000</td>\n",
       "      <td>1.000000</td>\n",
       "      <td>1.000000</td>\n",
       "      <td>1.000000</td>\n",
       "      <td>1.000000</td>\n",
       "      <td>1.000000</td>\n",
       "      <td>1.000000</td>\n",
       "      <td>1.000000</td>\n",
       "    </tr>\n",
       "  </tbody>\n",
       "</table>\n",
       "<p>8 rows × 28 columns</p>\n",
       "</div>"
      ],
      "text/plain": [
       "                0             1             2             3             4   \\\n",
       "count  30000.00000  30000.000000  30000.000000  30000.000000  30000.000000   \n",
       "mean       0.50000      0.159075      0.603733      0.280756      0.278633   \n",
       "std        0.28869      0.131058      0.489129      0.248165      0.260702   \n",
       "min        0.00000      0.000000      0.000000      0.000000      0.000000   \n",
       "25%        0.25000      0.040404      0.000000      0.000000      0.000000   \n",
       "50%        0.50000      0.131313      1.000000      0.333333      0.500000   \n",
       "75%        0.75000      0.232323      1.000000      0.333333      0.500000   \n",
       "max        1.00000      1.000000      1.000000      1.000000      1.000000   \n",
       "\n",
       "                 5            6             7             8             9   \\\n",
       "count  30000.000000  30000.00000  30000.000000  30000.000000  30000.000000   \n",
       "mean       0.249750      0.19833      0.186623      0.183380      0.177933   \n",
       "std        0.158929      0.11238      0.119719      0.119687      0.116914   \n",
       "min        0.000000      0.00000      0.000000      0.000000      0.000000   \n",
       "25%        0.120690      0.10000      0.100000      0.100000      0.100000   \n",
       "50%        0.224138      0.20000      0.200000      0.200000      0.200000   \n",
       "75%        0.344828      0.20000      0.200000      0.200000      0.200000   \n",
       "max        1.000000      1.00000      1.000000      1.000000      1.000000   \n",
       "\n",
       "       ...            18            19            20            21  \\\n",
       "count  ...  30000.000000  30000.000000  30000.000000  30000.000000   \n",
       "mean   ...      0.290851      0.785174      0.006483      0.003516   \n",
       "std    ...      0.045766      0.138803      0.018961      0.013680   \n",
       "min    ...      0.000000      0.000000      0.000000      0.000000   \n",
       "25%    ...      0.261944      0.721058      0.001145      0.000495   \n",
       "50%    ...      0.274097      0.834652      0.002404      0.001193   \n",
       "75%    ...      0.298787      0.881520      0.005731      0.002969   \n",
       "max    ...      1.000000      1.000000      1.000000      1.000000   \n",
       "\n",
       "                 22            23            24            25            26  \\\n",
       "count  30000.000000  30000.000000  30000.000000  30000.000000  30000.000000   \n",
       "mean       0.005832      0.007771      0.011252      0.009865      0.490336   \n",
       "std        0.019650      0.025227      0.035820      0.033627      0.193008   \n",
       "min        0.000000      0.000000      0.000000      0.000000      0.000000   \n",
       "25%        0.000435      0.000477      0.000592      0.000223      0.394309   \n",
       "50%        0.002009      0.002415      0.003517      0.002837      0.543082   \n",
       "75%        0.005028      0.006463      0.009452      0.007566      0.629867   \n",
       "max        1.000000      1.000000      1.000000      1.000000      1.000000   \n",
       "\n",
       "                 27  \n",
       "count  30000.000000  \n",
       "mean       0.221200  \n",
       "std        0.415062  \n",
       "min        0.000000  \n",
       "25%        0.000000  \n",
       "50%        0.000000  \n",
       "75%        0.000000  \n",
       "max        1.000000  \n",
       "\n",
       "[8 rows x 28 columns]"
      ]
     },
     "execution_count": 3,
     "metadata": {},
     "output_type": "execute_result"
    }
   ],
   "source": [
    "df = getDF()\n",
    "df.describe()"
   ]
  },
  {
   "cell_type": "code",
   "execution_count": 25,
   "metadata": {},
   "outputs": [
    {
     "data": {
      "text/html": [
       "<div>\n",
       "<style scoped>\n",
       "    .dataframe tbody tr th:only-of-type {\n",
       "        vertical-align: middle;\n",
       "    }\n",
       "\n",
       "    .dataframe tbody tr th {\n",
       "        vertical-align: top;\n",
       "    }\n",
       "\n",
       "    .dataframe thead th {\n",
       "        text-align: right;\n",
       "    }\n",
       "</style>\n",
       "<table border=\"1\" class=\"dataframe\">\n",
       "  <thead>\n",
       "    <tr style=\"text-align: right;\">\n",
       "      <th></th>\n",
       "      <th>0</th>\n",
       "      <th>1</th>\n",
       "      <th>2</th>\n",
       "      <th>3</th>\n",
       "      <th>4</th>\n",
       "      <th>5</th>\n",
       "      <th>6</th>\n",
       "      <th>7</th>\n",
       "      <th>8</th>\n",
       "      <th>9</th>\n",
       "      <th>...</th>\n",
       "      <th>18</th>\n",
       "      <th>19</th>\n",
       "      <th>20</th>\n",
       "      <th>21</th>\n",
       "      <th>22</th>\n",
       "      <th>23</th>\n",
       "      <th>24</th>\n",
       "      <th>25</th>\n",
       "      <th>26</th>\n",
       "      <th>27</th>\n",
       "    </tr>\n",
       "  </thead>\n",
       "  <tbody>\n",
       "    <tr>\n",
       "      <th>count</th>\n",
       "      <td>2500.000000</td>\n",
       "      <td>2500.000000</td>\n",
       "      <td>2500.000000</td>\n",
       "      <td>2500.000000</td>\n",
       "      <td>2500.000000</td>\n",
       "      <td>2500.000000</td>\n",
       "      <td>2500.000000</td>\n",
       "      <td>2500.000000</td>\n",
       "      <td>2500.000000</td>\n",
       "      <td>2500.000000</td>\n",
       "      <td>...</td>\n",
       "      <td>2500.000000</td>\n",
       "      <td>2500.000000</td>\n",
       "      <td>2500.000000</td>\n",
       "      <td>2500.000000</td>\n",
       "      <td>2500.000000</td>\n",
       "      <td>2500.000000</td>\n",
       "      <td>2500.000000</td>\n",
       "      <td>2500.000000</td>\n",
       "      <td>2500.000000</td>\n",
       "      <td>2500.000000</td>\n",
       "    </tr>\n",
       "    <tr>\n",
       "      <th>mean</th>\n",
       "      <td>0.501339</td>\n",
       "      <td>0.162129</td>\n",
       "      <td>0.613600</td>\n",
       "      <td>0.291200</td>\n",
       "      <td>0.277000</td>\n",
       "      <td>0.248324</td>\n",
       "      <td>0.198720</td>\n",
       "      <td>0.184040</td>\n",
       "      <td>0.180160</td>\n",
       "      <td>0.176600</td>\n",
       "      <td>...</td>\n",
       "      <td>0.291439</td>\n",
       "      <td>0.780653</td>\n",
       "      <td>0.006665</td>\n",
       "      <td>0.003402</td>\n",
       "      <td>0.005643</td>\n",
       "      <td>0.007829</td>\n",
       "      <td>0.011328</td>\n",
       "      <td>0.009807</td>\n",
       "      <td>0.484794</td>\n",
       "      <td>0.220800</td>\n",
       "    </tr>\n",
       "    <tr>\n",
       "      <th>std</th>\n",
       "      <td>0.288166</td>\n",
       "      <td>0.135990</td>\n",
       "      <td>0.487021</td>\n",
       "      <td>0.255312</td>\n",
       "      <td>0.259996</td>\n",
       "      <td>0.156934</td>\n",
       "      <td>0.112336</td>\n",
       "      <td>0.121636</td>\n",
       "      <td>0.121903</td>\n",
       "      <td>0.121253</td>\n",
       "      <td>...</td>\n",
       "      <td>0.048349</td>\n",
       "      <td>0.147024</td>\n",
       "      <td>0.021145</td>\n",
       "      <td>0.010522</td>\n",
       "      <td>0.016415</td>\n",
       "      <td>0.023750</td>\n",
       "      <td>0.031904</td>\n",
       "      <td>0.038183</td>\n",
       "      <td>0.202398</td>\n",
       "      <td>0.414869</td>\n",
       "    </tr>\n",
       "    <tr>\n",
       "      <th>min</th>\n",
       "      <td>0.000700</td>\n",
       "      <td>0.000000</td>\n",
       "      <td>0.000000</td>\n",
       "      <td>0.000000</td>\n",
       "      <td>0.000000</td>\n",
       "      <td>0.000000</td>\n",
       "      <td>0.000000</td>\n",
       "      <td>0.000000</td>\n",
       "      <td>0.000000</td>\n",
       "      <td>0.000000</td>\n",
       "      <td>...</td>\n",
       "      <td>0.000000</td>\n",
       "      <td>0.096670</td>\n",
       "      <td>0.000000</td>\n",
       "      <td>0.000000</td>\n",
       "      <td>0.000000</td>\n",
       "      <td>0.000000</td>\n",
       "      <td>0.000000</td>\n",
       "      <td>0.000000</td>\n",
       "      <td>0.000000</td>\n",
       "      <td>0.000000</td>\n",
       "    </tr>\n",
       "    <tr>\n",
       "      <th>25%</th>\n",
       "      <td>0.241391</td>\n",
       "      <td>0.040404</td>\n",
       "      <td>0.000000</td>\n",
       "      <td>0.000000</td>\n",
       "      <td>0.000000</td>\n",
       "      <td>0.120690</td>\n",
       "      <td>0.100000</td>\n",
       "      <td>0.100000</td>\n",
       "      <td>0.100000</td>\n",
       "      <td>0.100000</td>\n",
       "      <td>...</td>\n",
       "      <td>0.261902</td>\n",
       "      <td>0.720266</td>\n",
       "      <td>0.000893</td>\n",
       "      <td>0.000431</td>\n",
       "      <td>0.000435</td>\n",
       "      <td>0.000289</td>\n",
       "      <td>0.000451</td>\n",
       "      <td>0.000000</td>\n",
       "      <td>0.387565</td>\n",
       "      <td>0.000000</td>\n",
       "    </tr>\n",
       "    <tr>\n",
       "      <th>50%</th>\n",
       "      <td>0.503717</td>\n",
       "      <td>0.131313</td>\n",
       "      <td>1.000000</td>\n",
       "      <td>0.333333</td>\n",
       "      <td>0.500000</td>\n",
       "      <td>0.224138</td>\n",
       "      <td>0.200000</td>\n",
       "      <td>0.200000</td>\n",
       "      <td>0.200000</td>\n",
       "      <td>0.200000</td>\n",
       "      <td>...</td>\n",
       "      <td>0.274200</td>\n",
       "      <td>0.833794</td>\n",
       "      <td>0.002330</td>\n",
       "      <td>0.001216</td>\n",
       "      <td>0.002129</td>\n",
       "      <td>0.002412</td>\n",
       "      <td>0.003581</td>\n",
       "      <td>0.002837</td>\n",
       "      <td>0.540325</td>\n",
       "      <td>0.000000</td>\n",
       "    </tr>\n",
       "    <tr>\n",
       "      <th>75%</th>\n",
       "      <td>0.748383</td>\n",
       "      <td>0.232323</td>\n",
       "      <td>1.000000</td>\n",
       "      <td>0.333333</td>\n",
       "      <td>0.500000</td>\n",
       "      <td>0.344828</td>\n",
       "      <td>0.200000</td>\n",
       "      <td>0.200000</td>\n",
       "      <td>0.200000</td>\n",
       "      <td>0.200000</td>\n",
       "      <td>...</td>\n",
       "      <td>0.298673</td>\n",
       "      <td>0.881449</td>\n",
       "      <td>0.005725</td>\n",
       "      <td>0.002969</td>\n",
       "      <td>0.005025</td>\n",
       "      <td>0.006783</td>\n",
       "      <td>0.010084</td>\n",
       "      <td>0.007586</td>\n",
       "      <td>0.629323</td>\n",
       "      <td>0.000000</td>\n",
       "    </tr>\n",
       "    <tr>\n",
       "      <th>max</th>\n",
       "      <td>0.999900</td>\n",
       "      <td>0.747475</td>\n",
       "      <td>1.000000</td>\n",
       "      <td>1.000000</td>\n",
       "      <td>1.000000</td>\n",
       "      <td>0.827586</td>\n",
       "      <td>1.000000</td>\n",
       "      <td>0.900000</td>\n",
       "      <td>1.000000</td>\n",
       "      <td>1.000000</td>\n",
       "      <td>...</td>\n",
       "      <td>0.697967</td>\n",
       "      <td>0.983380</td>\n",
       "      <td>0.485264</td>\n",
       "      <td>0.228579</td>\n",
       "      <td>0.371422</td>\n",
       "      <td>0.534280</td>\n",
       "      <td>0.778376</td>\n",
       "      <td>0.837960</td>\n",
       "      <td>0.870909</td>\n",
       "      <td>1.000000</td>\n",
       "    </tr>\n",
       "  </tbody>\n",
       "</table>\n",
       "<p>8 rows × 28 columns</p>\n",
       "</div>"
      ],
      "text/plain": [
       "                0            1            2            3            4   \\\n",
       "count  2500.000000  2500.000000  2500.000000  2500.000000  2500.000000   \n",
       "mean      0.501339     0.162129     0.613600     0.291200     0.277000   \n",
       "std       0.288166     0.135990     0.487021     0.255312     0.259996   \n",
       "min       0.000700     0.000000     0.000000     0.000000     0.000000   \n",
       "25%       0.241391     0.040404     0.000000     0.000000     0.000000   \n",
       "50%       0.503717     0.131313     1.000000     0.333333     0.500000   \n",
       "75%       0.748383     0.232323     1.000000     0.333333     0.500000   \n",
       "max       0.999900     0.747475     1.000000     1.000000     1.000000   \n",
       "\n",
       "                5            6            7            8            9   ...  \\\n",
       "count  2500.000000  2500.000000  2500.000000  2500.000000  2500.000000  ...   \n",
       "mean      0.248324     0.198720     0.184040     0.180160     0.176600  ...   \n",
       "std       0.156934     0.112336     0.121636     0.121903     0.121253  ...   \n",
       "min       0.000000     0.000000     0.000000     0.000000     0.000000  ...   \n",
       "25%       0.120690     0.100000     0.100000     0.100000     0.100000  ...   \n",
       "50%       0.224138     0.200000     0.200000     0.200000     0.200000  ...   \n",
       "75%       0.344828     0.200000     0.200000     0.200000     0.200000  ...   \n",
       "max       0.827586     1.000000     0.900000     1.000000     1.000000  ...   \n",
       "\n",
       "                18           19           20           21           22  \\\n",
       "count  2500.000000  2500.000000  2500.000000  2500.000000  2500.000000   \n",
       "mean      0.291439     0.780653     0.006665     0.003402     0.005643   \n",
       "std       0.048349     0.147024     0.021145     0.010522     0.016415   \n",
       "min       0.000000     0.096670     0.000000     0.000000     0.000000   \n",
       "25%       0.261902     0.720266     0.000893     0.000431     0.000435   \n",
       "50%       0.274200     0.833794     0.002330     0.001216     0.002129   \n",
       "75%       0.298673     0.881449     0.005725     0.002969     0.005025   \n",
       "max       0.697967     0.983380     0.485264     0.228579     0.371422   \n",
       "\n",
       "                23           24           25           26           27  \n",
       "count  2500.000000  2500.000000  2500.000000  2500.000000  2500.000000  \n",
       "mean      0.007829     0.011328     0.009807     0.484794     0.220800  \n",
       "std       0.023750     0.031904     0.038183     0.202398     0.414869  \n",
       "min       0.000000     0.000000     0.000000     0.000000     0.000000  \n",
       "25%       0.000289     0.000451     0.000000     0.387565     0.000000  \n",
       "50%       0.002412     0.003581     0.002837     0.540325     0.000000  \n",
       "75%       0.006783     0.010084     0.007586     0.629323     0.000000  \n",
       "max       0.534280     0.778376     0.837960     0.870909     1.000000  \n",
       "\n",
       "[8 rows x 28 columns]"
      ]
     },
     "execution_count": 25,
     "metadata": {},
     "output_type": "execute_result"
    }
   ],
   "source": [
    "partialDF = getPartialDF(df, 2500/30000)\n",
    "partialDF.describe()"
   ]
  },
  {
   "cell_type": "markdown",
   "metadata": {},
   "source": [
    "# Models and comparison\n",
    "\n",
    "## Logistic regression\n",
    "\n",
    "The model: Logistic regression which uses l2 penalties, since we want to maximally penalize false predictions. We don't need to worry about outlier values since we have a binomial target. Lbfgs solver gave the most consistent results during hyper-parameter tuning. \n",
    "\n",
    "The data: We use a random sample of the entire dataset, since training and evaluating on the dataset of 30000 datapoints with 24 features was demanding on my CPU for logistic regression.\n",
    "\n",
    "Conclusions: The model obtains a mean cross-validation accuracy of 79.9% with std=0.01729. According to the confusion matrix, we can see that it often predicts no-default when there is in-fact a default. This suggests that the model is biased towards predicting no-default given a datapoint. Since 22% of target values are 'default' and 78% are 'no-default', a validation accuracy of 79.9% is not much better than naively predicting 'default' 22% of the time. This could be due to the fact that it is difficult to obtain complex relationships using logistic regression and linear decision boundaries.\n",
    "\n",
    "Although we did not use the entire dataset for testing logistic regression, the evaluation on the partial dataset does not indicate that the model will perform particularly well on the dataset. Based on the 3D model of the PCA-reduced data, it seems as though k-nearest neighbour might perform better, since we observed that many datapoints with similar targets were close together."
   ]
  },
  {
   "cell_type": "code",
   "execution_count": 26,
   "metadata": {},
   "outputs": [],
   "source": [
    "x_train, x_test, y_train, y_test = getSplit(partialDF, 0.2)"
   ]
  },
  {
   "cell_type": "code",
   "execution_count": 27,
   "metadata": {},
   "outputs": [
    {
     "name": "stderr",
     "output_type": "stream",
     "text": [
      "[Parallel(n_jobs=4)]: Using backend LokyBackend with 4 concurrent workers.\n",
      "[Parallel(n_jobs=4)]: Done   1 out of   1 | elapsed:    0.5s finished\n"
     ]
    },
    {
     "data": {
      "text/plain": [
       "LogisticRegression(C=1.0, class_weight=None, dual=False, fit_intercept=True,\n",
       "                   intercept_scaling=1, l1_ratio=None, max_iter=15000,\n",
       "                   multi_class='multinomial', n_jobs=4, penalty='l2',\n",
       "                   random_state=24, solver='lbfgs', tol=0.0001, verbose=1,\n",
       "                   warm_start=False)"
      ]
     },
     "execution_count": 27,
     "metadata": {},
     "output_type": "execute_result"
    }
   ],
   "source": [
    "lr = LogisticRegression(\n",
    "    penalty='l2',  # Choose L2 loss since (ytrue-ypredicted)^2 will be small (binary)\n",
    "    solver='lbfgs', # Gave best results while tuning\n",
    "    tol=1e-4,\n",
    "    random_state=24, \n",
    "    max_iter=15000,\n",
    "    multi_class='multinomial', # Works well even for binary classes according to sklearn docs\n",
    "    verbose=1,\n",
    "    n_jobs=4 # 4-core PC\n",
    ")\n",
    "lr.fit(x_train, y_train)"
   ]
  },
  {
   "cell_type": "code",
   "execution_count": 28,
   "metadata": {},
   "outputs": [
    {
     "name": "stderr",
     "output_type": "stream",
     "text": [
      "[Parallel(n_jobs=4)]: Using backend LokyBackend with 4 concurrent workers.\n",
      "[Parallel(n_jobs=4)]: Done   1 out of   1 | elapsed:    0.3s finished\n",
      "[Parallel(n_jobs=4)]: Using backend LokyBackend with 4 concurrent workers.\n",
      "[Parallel(n_jobs=4)]: Done   1 out of   1 | elapsed:    0.3s finished\n",
      "[Parallel(n_jobs=4)]: Using backend LokyBackend with 4 concurrent workers.\n",
      "[Parallel(n_jobs=4)]: Done   1 out of   1 | elapsed:    0.2s finished\n",
      "[Parallel(n_jobs=4)]: Using backend LokyBackend with 4 concurrent workers.\n",
      "[Parallel(n_jobs=4)]: Done   1 out of   1 | elapsed:    0.0s finished\n",
      "[Parallel(n_jobs=4)]: Using backend LokyBackend with 4 concurrent workers.\n",
      "[Parallel(n_jobs=4)]: Done   1 out of   1 | elapsed:    0.0s finished\n",
      "[Parallel(n_jobs=4)]: Using backend LokyBackend with 4 concurrent workers.\n",
      "[Parallel(n_jobs=4)]: Done   1 out of   1 | elapsed:    0.0s finished\n",
      "[Parallel(n_jobs=4)]: Using backend LokyBackend with 4 concurrent workers.\n",
      "[Parallel(n_jobs=4)]: Done   1 out of   1 | elapsed:    0.0s finished\n",
      "[Parallel(n_jobs=4)]: Using backend LokyBackend with 4 concurrent workers.\n",
      "[Parallel(n_jobs=4)]: Done   1 out of   1 | elapsed:    0.0s finished\n",
      "[Parallel(n_jobs=4)]: Using backend LokyBackend with 4 concurrent workers.\n",
      "[Parallel(n_jobs=4)]: Done   1 out of   1 | elapsed:    0.0s finished\n",
      "[Parallel(n_jobs=4)]: Using backend LokyBackend with 4 concurrent workers.\n",
      "[Parallel(n_jobs=4)]: Done   1 out of   1 | elapsed:    0.0s finished\n"
     ]
    }
   ],
   "source": [
    "cvs = cross_val_score(lr, x_train, y_train, cv=10)"
   ]
  },
  {
   "cell_type": "code",
   "execution_count": 29,
   "metadata": {},
   "outputs": [
    {
     "name": "stdout",
     "output_type": "stream",
     "text": [
      "[0.805 0.815 0.81  0.785 0.78  0.815 0.77  0.81  0.82  0.78 ]\n",
      "Mean cross validation accuracy: 79.9000 with std=0.01729\n"
     ]
    }
   ],
   "source": [
    "print(cvs)\n",
    "print(f'Mean cross validation accuracy: {100*np.mean(cvs):.4f} with std={cvs.std():.5f}')"
   ]
  },
  {
   "cell_type": "code",
   "execution_count": 30,
   "metadata": {},
   "outputs": [
    {
     "data": {
      "text/plain": [
       "<sklearn.metrics._plot.confusion_matrix.ConfusionMatrixDisplay at 0x2024d5501c8>"
      ]
     },
     "execution_count": 30,
     "metadata": {},
     "output_type": "execute_result"
    },
    {
     "data": {
      "image/png": "[encoded data removed]",
      "text/plain": [
       "<Figure size 432x288 with 2 Axes>"
      ]
     },
     "metadata": {
      "needs_background": "light"
     },
     "output_type": "display_data"
    }
   ],
   "source": [
    "plot_confusion_matrix(lr, x_test, y_test, display_labels=['no default','default'], cmap=plt.cm.Blues )"
   ]
  },
  {
   "cell_type": "markdown",
   "metadata": {},
   "source": [
    "## K-Nearest Neighbours\n",
    "\n",
    "The model: We use k-nearest neighbours with k=30, as this returns the highest validation accuracy.\n",
    "\n",
    "The data: We use a the full set of data since when evaluating the best value of k is affected by the number of samples in the data, we don't want to remove too many neighbours in the data.\n",
    "\n",
    "Conclusions: Although KNN performs marginally better than logistic regression in this case (80.8% vs 79.9% mean cross validation accuracy), it suffers from a similar problem, as in it seems biased to predicting 'no-default'. It is also possible that the model performs better since it was trained on the entire dataset, rather than simply a sample, so a direct comparison may not be appropriate. "
   ]
  },
  {
   "cell_type": "code",
   "execution_count": 32,
   "metadata": {},
   "outputs": [
    {
     "name": "stdout",
     "output_type": "stream",
     "text": [
      "Best value for k is : 30\n",
      "KNN achieved a maximum validation accuracy of 0.8045\n",
      "KNN achieved an average validation accuracy of 0.8001637426900584\n",
      "KNN achieved a minimum log loss of 6.752465783904502\n",
      "KNN achieved an average log loss of 6.9022388011725155\n"
     ]
    },
    {
     "data": {
      "image/png": "[encoded data removed]",
      "text/plain": [
       "<Figure size 432x288 with 1 Axes>"
      ]
     },
     "metadata": {
      "needs_background": "light"
     },
     "output_type": "display_data"
    }
   ],
   "source": [
    "df = getDF()\n",
    "x_train, x_test, y_train, y_test = getSplit(df, 0.2)\n",
    "\n",
    "accuracies_mean, mean_log_losses = [],[] # Mean accuracy and mean log-loss for binary targets\n",
    "neighbours = range(3, int(np.sqrt(len(df))), 3) # Generally want the value of k to be less than sqrt(n). Test k-values of multiples of 3.\n",
    "\n",
    "for i in neighbours: # Iterate through all possible values of k we want to test\n",
    "    accuracies_j, log_losses_j = [],[]  # Test K four times, get the mean validation accuracy of the 4 attempts\n",
    "    for j  in range(3):\n",
    "        knn = KNeighborsClassifier(n_neighbors=i)\n",
    "        knn.fit(x_train, y_train)\n",
    "        accuracies_j.append(knn.score(x_test, y_test))\n",
    "        log_losses_j.append(log_loss(knn.predict(x_test), np.array(y_test)))\n",
    "    accuracies_mean.append(np.mean(accuracies_j))\n",
    "    mean_log_losses.append(np.mean(log_losses_j))\n",
    "    \n",
    "best_k = 2*accuracies_mean.index(max(accuracies_mean))+2\n",
    "plt.plot(neighbours, accuracies_mean)\n",
    "plt.xlabel('Number of neighbours')\n",
    "plt.ylabel('Validation accuracy')\n",
    "plt.title('Comparison of validation accuracy for hyper-parameter k')\n",
    "print(f'Best value for k is : {best_k}')\n",
    "print(f'KNN achieved a maximum validation accuracy of {max(accuracies_mean)}')\n",
    "print(f'KNN achieved an average validation accuracy of {np.mean(accuracies_mean)}')\n",
    "print(f'KNN achieved a minimum log loss of {min(mean_log_losses)}')\n",
    "print(f'KNN achieved an average log loss of {np.mean(mean_log_losses)}')"
   ]
  },
  {
   "cell_type": "code",
   "execution_count": 46,
   "metadata": {},
   "outputs": [
    {
     "name": "stdout",
     "output_type": "stream",
     "text": [
      "[0.8075     0.80791667 0.8025     0.80208333 0.81083333 0.8075\n",
      " 0.8125     0.81458333 0.80708333 0.80875   ]\n",
      "Mean cross validation accuracy: 80.8125 with std=0.00372\n"
     ]
    }
   ],
   "source": [
    "bestknn = KNeighborsClassifier(n_neighbors=best_k)\n",
    "bestknn.fit(x_train,y_train)\n",
    "cvs = cross_val_score(bestknn, x_train, y_train, cv=10)\n",
    "print(cvs)\n",
    "print(f'Mean cross validation accuracy: {100*np.mean(cvs):.4f} with std={cvs.std():.5f}')"
   ]
  },
  {
   "cell_type": "code",
   "execution_count": 47,
   "metadata": {},
   "outputs": [
    {
     "data": {
      "text/plain": [
       "<sklearn.metrics._plot.confusion_matrix.ConfusionMatrixDisplay at 0x2024d484088>"
      ]
     },
     "execution_count": 47,
     "metadata": {},
     "output_type": "execute_result"
    },
    {
     "data": {
      "image/png": "[encoded data removed]",
      "text/plain": [
       "<Figure size 432x288 with 2 Axes>"
      ]
     },
     "metadata": {
      "needs_background": "light"
     },
     "output_type": "display_data"
    }
   ],
   "source": [
    "plot_confusion_matrix(bestknn, x_test, y_test, display_labels=['no default','default'], cmap=plt.cm.Blues )"
   ]
  },
  {
   "cell_type": "markdown",
   "metadata": {},
   "source": [
    "## Kernel SVM\n",
    "\n",
    "The model: A support vector machine with an 'rbf' kernel was used in binary classification for predicting defaulters.\n",
    "\n",
    "The data: Although the fit time scales at-least quadratically with the number of features, we use the full dataset since the fit-time was only a few seconds.\n",
    "\n",
    "Conclusions: It is the best performing 'simple' model tested. It has the highest mean cross-validation accuracy of 81.7%, however it still has trouble predicting which individuals will default. Now we must try more powerful predictive models."
   ]
  },
  {
   "cell_type": "code",
   "execution_count": 48,
   "metadata": {},
   "outputs": [
    {
     "data": {
      "text/plain": [
       "SVC(C=1.0, break_ties=False, cache_size=200, class_weight=None, coef0=0.0,\n",
       "    decision_function_shape='ovr', degree=3, gamma='scale', kernel='rbf',\n",
       "    max_iter=-1, probability=False, random_state=None, shrinking=True,\n",
       "    tol=0.001, verbose=False)"
      ]
     },
     "execution_count": 48,
     "metadata": {},
     "output_type": "execute_result"
    }
   ],
   "source": [
    "df = getDF()\n",
    "x_train, x_test, y_train, y_test = getSplit(df, 0.2)\n",
    "svm = SVC(kernel=\"rbf\")\n",
    "svm.fit(x_train,y_train)"
   ]
  },
  {
   "cell_type": "code",
   "execution_count": 49,
   "metadata": {},
   "outputs": [],
   "source": [
    "cvs = cross_val_score(svm, x_train, y_train, cv=10)"
   ]
  },
  {
   "cell_type": "code",
   "execution_count": 50,
   "metadata": {},
   "outputs": [
    {
     "name": "stdout",
     "output_type": "stream",
     "text": [
      "[0.82375    0.815      0.81583333 0.81458333 0.82333333 0.81541667\n",
      " 0.81291667 0.81875    0.8175     0.81666667]\n",
      "Mean cross validation accuracy: 81.7375 with std=0.00344\n"
     ]
    }
   ],
   "source": [
    "print(cvs)\n",
    "print(f'Mean cross validation accuracy: {100*np.mean(cvs):.4f} with std={cvs.std():.5f}')"
   ]
  },
  {
   "cell_type": "code",
   "execution_count": 51,
   "metadata": {},
   "outputs": [
    {
     "data": {
      "text/plain": [
       "<sklearn.metrics._plot.confusion_matrix.ConfusionMatrixDisplay at 0x20255f5a808>"
      ]
     },
     "execution_count": 51,
     "metadata": {},
     "output_type": "execute_result"
    },
    {
     "data": {
      "image/png": "[encoded data removed]",
      "text/plain": [
       "<Figure size 432x288 with 2 Axes>"
      ]
     },
     "metadata": {
      "needs_background": "light"
     },
     "output_type": "display_data"
    }
   ],
   "source": [
    "plot_confusion_matrix(svm, x_test, y_test, display_labels=['no default','default'], cmap=plt.cm.Blues )"
   ]
  },
  {
   "cell_type": "markdown",
   "metadata": {},
   "source": [
    "## Deep Neural Networks\n",
    "\n",
    "#### The models: \n",
    "We train 2 different neural networks. Both are variations from the top 2 neural networks from the NeuralTuner.ipnyb file. After manually tuning a dense neural network and a sparse neural network, it was found that the dense neural network generally performed better on the validation data than the sparse network and was faster to train. \n",
    "\n",
    "#### Dense neural network: \n",
    "The default ADAM learning rate of 0.001 was found to be the best learning rate. Sigmoid activation function in the final layer was also tested against tanh and softmax, and sigmoid performed the best. The hidden layer activation functions are all swish, which performed better than ReLU by almost 1%. The same applies for the sparse neural network. Batch normalization and dropout was also tuned after many attempts. It achieved a validation accuracy of 82%.\n",
    "\n",
    "#### Sparse neural network: \n",
    "The default ADAM learning rate was found to be the best learning rate. Sigmoid activation function in the final layer was also tested against tanh and softmax, and sigmoid performed the best. As with the Dense neural network, swish gave higher validation accuracy than ReLu, and batch normalization and dropout was used to gain performance. It achieved a validation accuracy of 81.8%.\n",
    "\n",
    "#### Things that didn't work: \n",
    "Kernel regularization gave poor results, models which had a large difference between the maximum number of neurons in the hidden layer and minimum number of neurons in the hidden layer also gave generally poor results. Randomsearch was used to find an initial model architecture, however manually creating coherent architectures gave networks which achieved higher validatin accuracy. SGD performed worse than ADAM by around 1-2%, so ADAM was used for all optimizers.\n",
    "\n",
    "#### Conlcusions\n",
    "The Dense neural network was the best performing model tested. It achieved a validation accuracy of 82%, maximum training accuracy of 80.9%. This suggests that it is neither overfitting, nor underfitting and is performing relatively well. As with all other models tested, it struggles with predicting 'defaults', but performs very well with predicting 'no default'."
   ]
  },
  {
   "cell_type": "markdown",
   "metadata": {},
   "source": [
    "## Sparse network"
   ]
  },
  {
   "cell_type": "code",
   "execution_count": 156,
   "metadata": {},
   "outputs": [
    {
     "name": "stdout",
     "output_type": "stream",
     "text": [
      "Epoch 1/50\n",
      "1688/1688 [==============================] - 18s 10ms/step - loss: 0.5535 - binary_accuracy: 0.7481\n",
      "Epoch 2/50\n",
      "1688/1688 [==============================] - 17s 10ms/step - loss: 0.4627 - binary_accuracy: 0.8054\n",
      "Epoch 3/50\n",
      "1688/1688 [==============================] - 16s 10ms/step - loss: 0.4620 - binary_accuracy: 0.8042\n",
      "Epoch 4/50\n",
      "1688/1688 [==============================] - 17s 10ms/step - loss: 0.4610 - binary_accuracy: 0.8045\n",
      "Epoch 5/50\n",
      "1688/1688 [==============================] - 18s 10ms/step - loss: 0.4572 - binary_accuracy: 0.8067\n",
      "Epoch 6/50\n",
      "1688/1688 [==============================] - 17s 10ms/step - loss: 0.4567 - binary_accuracy: 0.8071\n",
      "Epoch 7/50\n",
      "1688/1688 [==============================] - 17s 10ms/step - loss: 0.4542 - binary_accuracy: 0.8134\n",
      "Epoch 8/50\n",
      "1688/1688 [==============================] - 17s 10ms/step - loss: 0.4500 - binary_accuracy: 0.8107\n",
      "Epoch 9/50\n",
      "1688/1688 [==============================] - 19s 11ms/step - loss: 0.4500 - binary_accuracy: 0.8092\n",
      "Epoch 10/50\n",
      "1688/1688 [==============================] - 18s 11ms/step - loss: 0.4516 - binary_accuracy: 0.8101\n",
      "Epoch 11/50\n",
      "1688/1688 [==============================] - 17s 10ms/step - loss: 0.4419 - binary_accuracy: 0.8180 1s - loss:  - ETA: 0s - loss: 0.4419 - binary_accuracy: 0.818\n",
      "Epoch 12/50\n",
      "1688/1688 [==============================] - 17s 10ms/step - loss: 0.4476 - binary_accuracy: 0.8124\n",
      "Epoch 13/50\n",
      "1688/1688 [==============================] - 17s 10ms/step - loss: 0.4458 - binary_accuracy: 0.8136\n",
      "Epoch 00013: early stopping\n",
      "94/94 [==============================] - 0s 3ms/step - loss: 0.4501 - binary_accuracy: 0.8183\n",
      "Validation accuracy of model : 81.83333277702332%\n"
     ]
    }
   ],
   "source": [
    "def createNeuralNet(): # Sparse\n",
    "    model = Sequential()\n",
    "    model.add(Dense(256, kernel_initializer='normal', input_dim = x_test.shape[1],activation='swish'))\n",
    "    model.add(Dropout(0.15))\n",
    "    model.add(BatchNormalization())\n",
    "    \n",
    "    model.add(Dense(256, kernel_initializer='normal', activation='swish'))\n",
    "    model.add(Dropout(0.2))\n",
    "    model.add(BatchNormalization())\n",
    "    \n",
    "    model.add(Dense(512, kernel_initializer='normal', activation='swish'))\n",
    "    model.add(Dropout(0.2))\n",
    "    model.add(BatchNormalization())\n",
    "    \n",
    "    model.add(Dense(512, kernel_initializer='normal', activation='swish'))\n",
    "    model.add(Dropout(0.2))\n",
    "    model.add(BatchNormalization())\n",
    "\n",
    "    model.add(Dense(512, kernel_initializer='normal', activation='swish'))\n",
    "    model.add(Dropout(0.2))\n",
    "    model.add(BatchNormalization())\n",
    "    \n",
    "    model.add(Dense(1, kernel_initializer='normal', activation='sigmoid'))\n",
    "    return model\n",
    "\n",
    "net = createNeuralNet()\n",
    "model = Model(inputs=net.inputs, outputs = net.outputs)\n",
    "model.compile(\n",
    "    optimizer=Adam(),\n",
    "    loss='binary_crossentropy', # Choose this over hinge, since hinge is better for -1, 1\n",
    "    metrics=['binary_accuracy'])\n",
    "model.fit(x_train, y_train, batch_size=16, epochs=50, callbacks=earlyStop)\n",
    "_,acc = model.evaluate(x_test, y_test)\n",
    "print(f'Validation accuracy of model : {acc*100}%')"
   ]
  },
  {
   "cell_type": "code",
   "execution_count": 158,
   "metadata": {},
   "outputs": [
    {
     "name": "stdout",
     "output_type": "stream",
     "text": [
      "Confusion matrix, without normalization\n",
      "[[2233   71]\n",
      " [ 539  157]]\n"
     ]
    },
    {
     "data": {
      "image/png": "[encoded data removed]",
      "text/plain": [
       "<Figure size 432x288 with 2 Axes>"
      ]
     },
     "metadata": {
      "needs_background": "light"
     },
     "output_type": "display_data"
    }
   ],
   "source": [
    "yt = y_test.to_numpy()\n",
    "preds = np.round(model.predict(x_test))\n",
    "\n",
    "cm = confusion_matrix(y_true=yt, y_pred=preds)\n",
    "plot_confusion_matrix(cm=cm, classes=['no default','default'], title='Confusion Matrix')"
   ]
  },
  {
   "cell_type": "markdown",
   "metadata": {},
   "source": [
    "## Dense network"
   ]
  },
  {
   "cell_type": "code",
   "execution_count": 171,
   "metadata": {},
   "outputs": [
    {
     "name": "stdout",
     "output_type": "stream",
     "text": [
      "Epoch 1/50\n",
      "422/422 [==============================] - 4s 7ms/step - loss: 0.5864 - binary_accuracy: 0.7264\n",
      "Epoch 2/50\n",
      "422/422 [==============================] - 3s 7ms/step - loss: 0.4605 - binary_accuracy: 0.8086\n",
      "Epoch 3/50\n",
      "422/422 [==============================] - 3s 7ms/step - loss: 0.4459 - binary_accuracy: 0.8121\n",
      "Epoch 4/50\n",
      "422/422 [==============================] - 3s 7ms/step - loss: 0.4458 - binary_accuracy: 0.8121\n",
      "Epoch 5/50\n",
      "422/422 [==============================] - 3s 7ms/step - loss: 0.4434 - binary_accuracy: 0.8148\n",
      "Epoch 6/50\n",
      "422/422 [==============================] - 3s 7ms/step - loss: 0.4433 - binary_accuracy: 0.8112\n",
      "Epoch 7/50\n",
      "422/422 [==============================] - 3s 7ms/step - loss: 0.4335 - binary_accuracy: 0.8170\n",
      "Epoch 8/50\n",
      "422/422 [==============================] - 3s 7ms/step - loss: 0.4342 - binary_accuracy: 0.8167\n",
      "Epoch 00008: early stopping\n",
      "94/94 [==============================] - 0s 3ms/step - loss: 0.4438 - binary_accuracy: 0.8207\n",
      "Validation accuracy of model : 82.06666707992554%\n",
      "Confusion matrix, without normalization\n",
      "[[2193  111]\n",
      " [ 427  269]]\n"
     ]
    },
    {
     "data": {
      "image/png": "[encoded data removed]",
      "text/plain": [
       "<Figure size 432x288 with 2 Axes>"
      ]
     },
     "metadata": {
      "needs_background": "light"
     },
     "output_type": "display_data"
    }
   ],
   "source": [
    "def createNeuralNet(): # Dense neural network\n",
    "    model = Sequential()\n",
    "    model.add(Dense(24, kernel_initializer='normal', input_dim = x_test.shape[1], activation='swish'))\n",
    "    model.add(BatchNormalization())\n",
    "\n",
    "    model.add(Dense(20, kernel_initializer='normal', activation='swish'))\n",
    "    model.add(BatchNormalization())\n",
    "    \n",
    "    model.add(Dense(20, kernel_initializer='normal', activation='swish'))\n",
    "    model.add(Dropout(0.5))\n",
    "    model.add(BatchNormalization())\n",
    "\n",
    "    model.add(Dense(1, kernel_initializer='normal', activation='sigmoid'))\n",
    "    return model\n",
    "\n",
    "net = createNeuralNet()\n",
    "model = Model(inputs=net.inputs, outputs = net.outputs)\n",
    "model.compile(\n",
    "    optimizer=Adam(),\n",
    "    loss='binary_crossentropy', # Choose this over hinge, since hinge is better for -1, 1\n",
    "    metrics=['binary_accuracy'])\n",
    "model.fit(x_train, y_train, batch_size=64, epochs=50, callbacks=earlyStop)\n",
    "_,acc = model.evaluate(x_test, y_test)\n",
    "print(f'Validation accuracy of model : {acc*100}%')\n",
    "\n",
    "yt = y_test.to_numpy()\n",
    "preds = np.round(model.predict(x_test))\n",
    "\n",
    "cm = confusion_matrix(y_true=yt, y_pred=preds)\n",
    "plot_confusion_matrix(cm=cm, classes=['no default','default'], title='Confusion Matrix')"
   ]
  },
  {
   "cell_type": "markdown",
   "metadata": {},
   "source": [
    "## So what did our model predict?\n",
    "\n",
    "We will use the dense neural network to make a prediction on who is most likely to default in our test set, and who is least likely to default in our test set, and look at the features of that individual. We use the sparse neural network, since this was the network with the highest validation accuracy."
   ]
  },
  {
   "cell_type": "code",
   "execution_count": 6,
   "metadata": {},
   "outputs": [
    {
     "name": "stdout",
     "output_type": "stream",
     "text": [
      "Epoch 1/50\n",
      "422/422 [==============================] - 4s 7ms/step - loss: 0.5886 - binary_accuracy: 0.7207\n",
      "Epoch 2/50\n",
      "422/422 [==============================] - 3s 7ms/step - loss: 0.4586 - binary_accuracy: 0.8112\n",
      "Epoch 3/50\n",
      "422/422 [==============================] - 3s 7ms/step - loss: 0.4506 - binary_accuracy: 0.8115\n",
      "Epoch 4/50\n",
      "422/422 [==============================] - 3s 7ms/step - loss: 0.4468 - binary_accuracy: 0.8106\n",
      "Epoch 5/50\n",
      "422/422 [==============================] - 3s 7ms/step - loss: 0.4434 - binary_accuracy: 0.8166\n",
      "Epoch 6/50\n",
      "422/422 [==============================] - 3s 7ms/step - loss: 0.4419 - binary_accuracy: 0.8160\n",
      "Epoch 7/50\n",
      "422/422 [==============================] - 3s 7ms/step - loss: 0.4386 - binary_accuracy: 0.8153\n",
      "Epoch 00007: early stopping\n"
     ]
    },
    {
     "data": {
      "text/plain": [
       "<tensorflow.python.keras.callbacks.History at 0x1925fdddf48>"
      ]
     },
     "execution_count": 6,
     "metadata": {},
     "output_type": "execute_result"
    }
   ],
   "source": [
    "dataframe = pd.read_csv('default of credit card clients.csv', encoding=\"utf-8\", header=1)\n",
    "df = dataframe.copy(deep=True) # Make a deep copy so as not to modify the origional dataset\n",
    "df['EDUCATION'].loc[(df['EDUCATION'] > 4)] = 4\n",
    "df['EDUCATION'].loc[(df['EDUCATION'] == 0)] = 4\n",
    "df['MARRIAGE'].loc[(df['MARRIAGE'] >2)] = 3\n",
    "df['MARRIAGE'].loc[(df['MARRIAGE'] ==0)] = 3\n",
    "pay = df.iloc[:, 6:12]\n",
    "paydf = accumulateLogSum_noTarget(pay, 'PAY_LOGSUM')\n",
    "bill = df.iloc[:,12:18]\n",
    "billdf = accumulateLogSum_noTarget(bill, 'BILL_LOGSUM')\n",
    "payamt = df.iloc[:, 18:24]\n",
    "payamtdf = accumulateLogSum_noTarget(payamt, 'PAYAMT_LOGSUM')\n",
    "target_tmp = df.iloc[:,-1]\n",
    "firstcols = df.iloc[:,:6]\n",
    "newdf = pd.concat([firstcols,pay,paydf,bill,billdf,payamt,payamtdf,target_tmp], axis=1)\n",
    "x = newdf.values #returns a numpy array\n",
    "min_max_scaler = preprocessing.MinMaxScaler()\n",
    "x_scaled = min_max_scaler.fit_transform(x)\n",
    "newdf = pd.DataFrame(x_scaled)\n",
    "\n",
    "X = newdf.iloc[:, 0:-1]\n",
    "y = newdf.iloc[:,-1]\n",
    "x_train, x_test, y_train, y_test = train_test_split(X,y, test_size=0.1 )\n",
    "\n",
    "earlyStop = EarlyStopping(monitor='binary_accuracy', min_delta=0.0075, patience=5, verbose=1)\n",
    "\n",
    "def createNeuralNet(): # Dense neural network\n",
    "    model = Sequential()\n",
    "    model.add(Dense(24, kernel_initializer='normal', input_dim = x_test.shape[1], activation='swish'))\n",
    "    model.add(BatchNormalization())\n",
    "\n",
    "    model.add(Dense(20, kernel_initializer='normal', activation='swish'))\n",
    "    model.add(BatchNormalization())\n",
    "    \n",
    "    model.add(Dense(20, kernel_initializer='normal', activation='swish'))\n",
    "    model.add(Dropout(0.5))\n",
    "    model.add(BatchNormalization())\n",
    "\n",
    "    model.add(Dense(1, kernel_initializer='normal', activation='sigmoid'))\n",
    "    return model\n",
    "\n",
    "net = createNeuralNet()\n",
    "model = Model(inputs=net.inputs, outputs = net.outputs)\n",
    "model.compile(\n",
    "    optimizer=Adam(),\n",
    "    loss='binary_crossentropy', # Choose this over hinge, since hinge is better for -1, 1\n",
    "    metrics=['binary_accuracy'])\n",
    "model.fit(x_train, y_train, batch_size=64, epochs=50, callbacks=earlyStop)"
   ]
  },
  {
   "cell_type": "code",
   "execution_count": 7,
   "metadata": {},
   "outputs": [],
   "source": [
    "allrows = [row for row in x_test.iterrows()] # each row is a tuple(name which is some int, array of feature values)\n",
    "allrows = [row[1] for row in allrows] # extract the feature values from each tuple in the list of all rows\n",
    "allrows = [r.values.reshape(1,-1) for r in allrows] # turn each item into the shape which the model predicts in\n",
    "allpredictions = [model.predict(r)[0][0] for r in allrows] # model.predict(r) returns [[prediction]], so extract the prediction"
   ]
  },
  {
   "cell_type": "code",
   "execution_count": 8,
   "metadata": {},
   "outputs": [
    {
     "name": "stdout",
     "output_type": "stream",
     "text": [
      "Individual who is most likely to default has a 92.94 percent chance of defaulting\n",
      "Individual who is least likely to default has a 0.0412 percent chance of defaulting\n"
     ]
    }
   ],
   "source": [
    "mostLikelyToDefault = max(allpredictions) # the model predicts with 97% certainty that this individual will default\n",
    "leastLieklyToDefault = min(allpredictions) # the model predicts \n",
    "\n",
    "print(f'Individual who is most likely to default has a {mostLikelyToDefault*100:.4} percent chance of defaulting')\n",
    "print(f'Individual who is least likely to default has a {leastLieklyToDefault*100:.4f} percent chance of defaulting')"
   ]
  },
  {
   "cell_type": "code",
   "execution_count": 9,
   "metadata": {},
   "outputs": [
    {
     "name": "stdout",
     "output_type": "stream",
     "text": [
      "[18868, 180000, 2, 2, 2, 28, 8, 7, 6, 4, 4, 2, 11, 197231, 194309, 189981, 185558, 181137, 184009, 72, 0, 0, 0, 0, 6000, 0, 8, 0]\n",
      "[28717, 340000, 2, 1, 3, 42, -1, -1, -1, -1, -1, 0, -3, 139808, 176743, 34401, 205930, 265431, 270237, 71, 873552, 1215471, 889043, 621000, 20000, 145000, 76, 0]\n",
      "Index(['ID', 'LIMIT_BAL', 'SEX', 'EDUCATION', 'MARRIAGE', 'AGE', 'PAY_0',\n",
      "       'PAY_2', 'PAY_3', 'PAY_4', 'PAY_5', 'PAY_6', 'PAY_LOGSUM', 'BILL_AMT1',\n",
      "       'BILL_AMT2', 'BILL_AMT3', 'BILL_AMT4', 'BILL_AMT5', 'BILL_AMT6',\n",
      "       'BILL_LOGSUM', 'PAY_AMT1', 'PAY_AMT2', 'PAY_AMT3', 'PAY_AMT4',\n",
      "       'PAY_AMT5', 'PAY_AMT6', 'PAYAMT_LOGSUM', 'default payment next month'],\n",
      "      dtype='object')\n",
      "28\n",
      "28\n"
     ]
    }
   ],
   "source": [
    "idxOfMax = allpredictions.index(max(allpredictions))\n",
    "idxOfMin = allpredictions.index(min(allpredictions))\n",
    "\n",
    "# These values are normalized, we need to use the scaler to give us the inverse transform\n",
    "# Append a 0, just to make it compatable with minmaxsclaer. This \"dummy column\" is the target value which isn't in x_test\n",
    "featuresOfMax = x_test.iloc[idxOfMax, :].append(pd.Series([0.], index=[27])).values.reshape(1,-1)\n",
    "featuresOfMin = x_test.iloc[idxOfMin, :].append(pd.Series([0.], index=[27])).values.reshape(1,-1)\n",
    "\n",
    "fmax = min_max_scaler.inverse_transform(featuresOfMax)\n",
    "featuresMaxDefault = [int(i) for i in fmax[0]] # Extract the features from [[features]]\n",
    "\n",
    "fmin = min_max_scaler.inverse_transform(featuresOfMin)\n",
    "featuresMinDefault = [int(i) for i in fmin[0]]\n",
    "\n",
    "print(featuresMaxDefault)\n",
    "print(featuresMinDefault)\n",
    "allfeatures = pd.concat([firstcols,pay,paydf,bill,billdf,payamt,payamtdf,target_tmp], axis=1).columns\n",
    "print(allfeatures)\n",
    "print(len(allfeatures))\n",
    "print(len(featuresMinDefault))"
   ]
  },
  {
   "cell_type": "code",
   "execution_count": 10,
   "metadata": {},
   "outputs": [
    {
     "name": "stdout",
     "output_type": "stream",
     "text": [
      "Here are the featuers of an individual who is most likely to default, according to our model: \n",
      "ID : 18868\n",
      "LIMIT_BAL : 180000\n",
      "SEX : 2\n",
      "EDUCATION : 2\n",
      "MARRIAGE : 2\n",
      "AGE : 28\n",
      "PAY_0 : 8\n",
      "PAY_2 : 7\n",
      "PAY_3 : 6\n",
      "PAY_4 : 4\n",
      "PAY_5 : 4\n",
      "PAY_6 : 2\n",
      "PAY_LOGSUM : 11\n",
      "BILL_AMT1 : 197231\n",
      "BILL_AMT2 : 194309\n",
      "BILL_AMT3 : 189981\n",
      "BILL_AMT4 : 185558\n",
      "BILL_AMT5 : 181137\n",
      "BILL_AMT6 : 184009\n",
      "BILL_LOGSUM : 72\n",
      "PAY_AMT1 : 0\n",
      "PAY_AMT2 : 0\n",
      "PAY_AMT3 : 0\n",
      "PAY_AMT4 : 0\n",
      "PAY_AMT5 : 6000\n",
      "PAY_AMT6 : 0\n",
      "PAYAMT_LOGSUM : 8\n",
      "default payment next month : 0\n"
     ]
    }
   ],
   "source": [
    "print('Here are the featuers of an individual who is most likely to default, according to our model: ')\n",
    "for i in range(len(allfeatures)):\n",
    "    print(f'{allfeatures[i]} : {featuresMaxDefault[i]}')"
   ]
  },
  {
   "cell_type": "code",
   "execution_count": 11,
   "metadata": {},
   "outputs": [
    {
     "name": "stdout",
     "output_type": "stream",
     "text": [
      "Here are the featuers of an individual who is least likely to default, according to our model: \n",
      "ID : 28717\n",
      "LIMIT_BAL : 340000\n",
      "SEX : 2\n",
      "EDUCATION : 1\n",
      "MARRIAGE : 3\n",
      "AGE : 42\n",
      "PAY_0 : -1\n",
      "PAY_2 : -1\n",
      "PAY_3 : -1\n",
      "PAY_4 : -1\n",
      "PAY_5 : -1\n",
      "PAY_6 : 0\n",
      "PAY_LOGSUM : -3\n",
      "BILL_AMT1 : 139808\n",
      "BILL_AMT2 : 176743\n",
      "BILL_AMT3 : 34401\n",
      "BILL_AMT4 : 205930\n",
      "BILL_AMT5 : 265431\n",
      "BILL_AMT6 : 270237\n",
      "BILL_LOGSUM : 71\n",
      "PAY_AMT1 : 873552\n",
      "PAY_AMT2 : 1215471\n",
      "PAY_AMT3 : 889043\n",
      "PAY_AMT4 : 621000\n",
      "PAY_AMT5 : 20000\n",
      "PAY_AMT6 : 145000\n",
      "PAYAMT_LOGSUM : 76\n",
      "default payment next month : 0\n"
     ]
    }
   ],
   "source": [
    "print('Here are the featuers of an individual who is least likely to default, according to our model: ')\n",
    "for i in range(len(allfeatures)):\n",
    "    print(f'{allfeatures[i]} : {featuresMinDefault[i]}')"
   ]
  },
  {
   "cell_type": "markdown",
   "metadata": {},
   "source": [
    "# Conclusion And Summary\n",
    "\n",
    "## Models:\n",
    "\n",
    "#### Logistic regression\n",
    "\n",
    "Baseline model: 79.9% accuracy. Slow to train, underperforms.\n",
    "\n",
    "#### K-Nearest Neighbours\n",
    "\n",
    "80.8% accuracy, fast to train, simple.\n",
    "\n",
    "#### SVM\n",
    "\n",
    "Best performing 'simple' model, 81.7% accuracy.\n",
    "\n",
    "#### Dense Neural Network\n",
    "\n",
    "Best performing model overall, 82.1% accuracy but slow to train.\n",
    "\n",
    "#### Sparse Neural Network\n",
    "\n",
    "81.8% accuracy, but slowest to train.\n",
    "\n",
    "#### Unsupervised learning\n",
    "\n",
    "2D PCA-Reduced Data is unable to classify between the two target values, 3D appeared to show clusters, but no clustering method gave definitive results.\n",
    "\n",
    "## Findings:\n",
    "\n",
    "### Let's compare our pre-emptive data exploration with what our neural network has discovered.\n",
    "\n",
    "#### Quantitative data\n",
    "\n",
    "##### Paying and billing amounts: \n",
    "The individual who is least likely to default consistently has a high PAY_AMT, which suggests that the individual always pays back their bills is least likely to default. Furthermore, the payment amount AND billing amount is large, however when we look at the BILL_LOGSUM and PAY_LOGSUM, we see that they are roughly equal (payment slightly higher than billed). \n",
    "\n",
    "The individual who is most likely to default has several months with no payment whatsoever, with the exception of 1 small payment. Their sum of payments is much smaller than the sum of their billed amount. Infact, this individual has a very similar billing sum to the individual who consistently pays it off, however they do not pay their credit card bill.\n",
    "\n",
    "This is something in which I did not discover in my pre-emptive data exploration by observing the charts and correlation matrix.\n",
    "\n",
    "#### Payment timing\n",
    "The individual who is least likely to default consistently pays duly. In the pre-emptive data exploration, I stated my hypothesis for this reason: the individual who is least likely to default has an automatic monthly payment system set-up, or has a routine habit of paying off their bills on a certain day of the month. \n",
    "\n",
    "The individual who is most likely to default is consistently *several* months late with their payment. At one point, the individual did not pay their credit card at all for 8 months.\n",
    "\n",
    "This confirms my findings in the pre-emptive data exploration, which suggests that both the neural network model and I learned this feature correctly.\n",
    "\n",
    "#### Age\n",
    "The individual who is least likely to default is on the edge the range described in the data exploration. The age of the individual who is most likely to default is 28, which is well within the range of ages of an individual which, according to the pre-emptive data exploration, is most likely to default.\n",
    "\n",
    "#### Qualitative data\n",
    "\n",
    "It is difficult to say if qualitative data is an indicator of whether or not an individual is likely to default or not. Bayesian inference suggests that the probabilities of an individual defaulting changes with some of these qualities.\n",
    "\n",
    "In this case, the individual who is least likely to default matches the qualitative features found in the pre-emptive data exploration. The same applies for the individual who is most likely to default, with the exception of education level, however a higher ratio of university graduates defaulted compared to individuals with highschool-level education, which I found to give the highest chance of defaulting."
   ]
  },
  {
   "cell_type": "code",
   "execution_count": null,
   "metadata": {},
   "outputs": [],
   "source": []
  }
 ],
 "metadata": {
  "kernelspec": {
   "display_name": "Python 3",
   "language": "python",
   "name": "python3"
  },
  "language_info": {
   "codemirror_mode": {
    "name": "ipython",
    "version": 3
   },
   "file_extension": ".py",
   "mimetype": "text/x-python",
   "name": "python",
   "nbconvert_exporter": "python",
   "pygments_lexer": "ipython3",
   "version": "3.7.6"
  }
 },
 "nbformat": 4,
 "nbformat_minor": 4
}
